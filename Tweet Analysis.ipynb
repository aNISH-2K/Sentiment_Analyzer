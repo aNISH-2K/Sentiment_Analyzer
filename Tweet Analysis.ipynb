{
 "cells": [
  {
   "cell_type": "code",
   "execution_count": 1,
   "metadata": {},
   "outputs": [],
   "source": [
    "# Importing Required Packages."
   ]
  },
  {
   "cell_type": "code",
   "execution_count": 2,
   "metadata": {},
   "outputs": [],
   "source": [
    "import numpy as np\n",
    "import pandas as pd\n",
    "import tweepy\n",
    "import json\n",
    "from tweepy import OAuthHandler\n",
    "from textblob import TextBlob"
   ]
  },
  {
   "cell_type": "code",
   "execution_count": 3,
   "metadata": {},
   "outputs": [],
   "source": [
    "#Twitter App Credentials"
   ]
  },
  {
   "cell_type": "code",
   "execution_count": 4,
   "metadata": {},
   "outputs": [],
   "source": [
    "consumer_key = \"p4I1wgl2npsNdBDshu378Fjkd\"\n",
    "consumer_secret = \"ulwcITBcrpPnb9EkwTukr7ERxLStRNudValhVWC68vlT8PdgGE\"\n",
    "access_token = \"3194988066-pW6mxUKNgjFvR4rNzuhbONp23wPRBVxDCop1S0g\"\n",
    "access_token_secret = \"xR5oi8SxmOJDw0SJAL0qfBhEsCGwXZe6SAOyIca4biiyR\""
   ]
  },
  {
   "cell_type": "code",
   "execution_count": 5,
   "metadata": {},
   "outputs": [],
   "source": [
    "auth = tweepy.OAuthHandler( consumer_key , consumer_secret )\n",
    "auth.set_access_token( access_token , access_token_secret )\n",
    "api = tweepy.API(auth)"
   ]
  },
  {
   "cell_type": "code",
   "execution_count": 6,
   "metadata": {},
   "outputs": [],
   "source": [
    "query = \"Covid cases in India\""
   ]
  },
  {
   "cell_type": "code",
   "execution_count": 7,
   "metadata": {},
   "outputs": [
    {
     "name": "stdout",
     "output_type": "stream",
     "text": [
      "Status(_api=<tweepy.api.API object at 0x0000027DB9D291C8>, _json={'created_at': 'Mon Nov 09 09:23:00 +0000 2020', 'id': 1325730598531395584, 'id_str': '1325730598531395584', 'full_text': 'Delhi overtakes Maharashtra, Kerala as highest contributor to new Covid-19 cases https://t.co/4dufSV4bLg', 'truncated': False, 'display_text_range': [0, 104], 'entities': {'hashtags': [], 'symbols': [], 'user_mentions': [], 'urls': [{'url': 'https://t.co/4dufSV4bLg', 'expanded_url': 'http://toi.in/zYXYRa/a24gk', 'display_url': 'toi.in/zYXYRa/a24gk', 'indices': [81, 104]}]}, 'metadata': {'iso_language_code': 'en', 'result_type': 'recent'}, 'source': '<a href=\"https://mobile.twitter.com\" rel=\"nofollow\">Twitter Web App</a>', 'in_reply_to_status_id': None, 'in_reply_to_status_id_str': None, 'in_reply_to_user_id': None, 'in_reply_to_user_id_str': None, 'in_reply_to_screen_name': None, 'user': {'id': 134758540, 'id_str': '134758540', 'name': 'The Times Of India', 'screen_name': 'timesofindia', 'location': 'New Delhi', 'description': 'News. Views. Analysis. Conversations. India’s No.1 digital news destination, world’s largest-selling English newspaper - A Times Internet Limited Product', 'url': 'https://t.co/JxQOlwNQ7E', 'entities': {'url': {'urls': [{'url': 'https://t.co/JxQOlwNQ7E', 'expanded_url': 'http://www.timesofindia.com', 'display_url': 'timesofindia.com', 'indices': [0, 23]}]}, 'description': {'urls': []}}, 'protected': False, 'followers_count': 13215158, 'friends_count': 506, 'listed_count': 11509, 'created_at': 'Mon Apr 19 10:50:15 +0000 2010', 'favourites_count': 6, 'utc_offset': None, 'time_zone': None, 'geo_enabled': False, 'verified': True, 'statuses_count': 611371, 'lang': None, 'contributors_enabled': False, 'is_translator': False, 'is_translation_enabled': False, 'profile_background_color': 'C0DEED', 'profile_background_image_url': 'http://abs.twimg.com/images/themes/theme1/bg.png', 'profile_background_image_url_https': 'https://abs.twimg.com/images/themes/theme1/bg.png', 'profile_background_tile': False, 'profile_image_url': 'http://pbs.twimg.com/profile_images/1129666669054324736/1W_E72cn_normal.png', 'profile_image_url_https': 'https://pbs.twimg.com/profile_images/1129666669054324736/1W_E72cn_normal.png', 'profile_banner_url': 'https://pbs.twimg.com/profile_banners/134758540/1604655639', 'profile_link_color': '0084B4', 'profile_sidebar_border_color': 'C0DEED', 'profile_sidebar_fill_color': 'DDEEF6', 'profile_text_color': '333333', 'profile_use_background_image': True, 'has_extended_profile': False, 'default_profile': False, 'default_profile_image': False, 'following': False, 'follow_request_sent': False, 'notifications': False, 'translator_type': 'regular'}, 'geo': None, 'coordinates': None, 'place': None, 'contributors': None, 'is_quote_status': False, 'retweet_count': 0, 'favorite_count': 0, 'favorited': False, 'retweeted': False, 'possibly_sensitive': False, 'lang': 'en'}, created_at=datetime.datetime(2020, 11, 9, 9, 23), id=1325730598531395584, id_str='1325730598531395584', full_text='Delhi overtakes Maharashtra, Kerala as highest contributor to new Covid-19 cases https://t.co/4dufSV4bLg', truncated=False, display_text_range=[0, 104], entities={'hashtags': [], 'symbols': [], 'user_mentions': [], 'urls': [{'url': 'https://t.co/4dufSV4bLg', 'expanded_url': 'http://toi.in/zYXYRa/a24gk', 'display_url': 'toi.in/zYXYRa/a24gk', 'indices': [81, 104]}]}, metadata={'iso_language_code': 'en', 'result_type': 'recent'}, source='Twitter Web App', source_url='https://mobile.twitter.com', in_reply_to_status_id=None, in_reply_to_status_id_str=None, in_reply_to_user_id=None, in_reply_to_user_id_str=None, in_reply_to_screen_name=None, author=User(_api=<tweepy.api.API object at 0x0000027DB9D291C8>, _json={'id': 134758540, 'id_str': '134758540', 'name': 'The Times Of India', 'screen_name': 'timesofindia', 'location': 'New Delhi', 'description': 'News. Views. Analysis. Conversations. India’s No.1 digital news destination, world’s largest-selling English newspaper - A Times Internet Limited Product', 'url': 'https://t.co/JxQOlwNQ7E', 'entities': {'url': {'urls': [{'url': 'https://t.co/JxQOlwNQ7E', 'expanded_url': 'http://www.timesofindia.com', 'display_url': 'timesofindia.com', 'indices': [0, 23]}]}, 'description': {'urls': []}}, 'protected': False, 'followers_count': 13215158, 'friends_count': 506, 'listed_count': 11509, 'created_at': 'Mon Apr 19 10:50:15 +0000 2010', 'favourites_count': 6, 'utc_offset': None, 'time_zone': None, 'geo_enabled': False, 'verified': True, 'statuses_count': 611371, 'lang': None, 'contributors_enabled': False, 'is_translator': False, 'is_translation_enabled': False, 'profile_background_color': 'C0DEED', 'profile_background_image_url': 'http://abs.twimg.com/images/themes/theme1/bg.png', 'profile_background_image_url_https': 'https://abs.twimg.com/images/themes/theme1/bg.png', 'profile_background_tile': False, 'profile_image_url': 'http://pbs.twimg.com/profile_images/1129666669054324736/1W_E72cn_normal.png', 'profile_image_url_https': 'https://pbs.twimg.com/profile_images/1129666669054324736/1W_E72cn_normal.png', 'profile_banner_url': 'https://pbs.twimg.com/profile_banners/134758540/1604655639', 'profile_link_color': '0084B4', 'profile_sidebar_border_color': 'C0DEED', 'profile_sidebar_fill_color': 'DDEEF6', 'profile_text_color': '333333', 'profile_use_background_image': True, 'has_extended_profile': False, 'default_profile': False, 'default_profile_image': False, 'following': False, 'follow_request_sent': False, 'notifications': False, 'translator_type': 'regular'}, id=134758540, id_str='134758540', name='The Times Of India', screen_name='timesofindia', location='New Delhi', description='News. Views. Analysis. Conversations. India’s No.1 digital news destination, world’s largest-selling English newspaper - A Times Internet Limited Product', url='https://t.co/JxQOlwNQ7E', entities={'url': {'urls': [{'url': 'https://t.co/JxQOlwNQ7E', 'expanded_url': 'http://www.timesofindia.com', 'display_url': 'timesofindia.com', 'indices': [0, 23]}]}, 'description': {'urls': []}}, protected=False, followers_count=13215158, friends_count=506, listed_count=11509, created_at=datetime.datetime(2010, 4, 19, 10, 50, 15), favourites_count=6, utc_offset=None, time_zone=None, geo_enabled=False, verified=True, statuses_count=611371, lang=None, contributors_enabled=False, is_translator=False, is_translation_enabled=False, profile_background_color='C0DEED', profile_background_image_url='http://abs.twimg.com/images/themes/theme1/bg.png', profile_background_image_url_https='https://abs.twimg.com/images/themes/theme1/bg.png', profile_background_tile=False, profile_image_url='http://pbs.twimg.com/profile_images/1129666669054324736/1W_E72cn_normal.png', profile_image_url_https='https://pbs.twimg.com/profile_images/1129666669054324736/1W_E72cn_normal.png', profile_banner_url='https://pbs.twimg.com/profile_banners/134758540/1604655639', profile_link_color='0084B4', profile_sidebar_border_color='C0DEED', profile_sidebar_fill_color='DDEEF6', profile_text_color='333333', profile_use_background_image=True, has_extended_profile=False, default_profile=False, default_profile_image=False, following=False, follow_request_sent=False, notifications=False, translator_type='regular'), user=User(_api=<tweepy.api.API object at 0x0000027DB9D291C8>, _json={'id': 134758540, 'id_str': '134758540', 'name': 'The Times Of India', 'screen_name': 'timesofindia', 'location': 'New Delhi', 'description': 'News. Views. Analysis. Conversations. India’s No.1 digital news destination, world’s largest-selling English newspaper - A Times Internet Limited Product', 'url': 'https://t.co/JxQOlwNQ7E', 'entities': {'url': {'urls': [{'url': 'https://t.co/JxQOlwNQ7E', 'expanded_url': 'http://www.timesofindia.com', 'display_url': 'timesofindia.com', 'indices': [0, 23]}]}, 'description': {'urls': []}}, 'protected': False, 'followers_count': 13215158, 'friends_count': 506, 'listed_count': 11509, 'created_at': 'Mon Apr 19 10:50:15 +0000 2010', 'favourites_count': 6, 'utc_offset': None, 'time_zone': None, 'geo_enabled': False, 'verified': True, 'statuses_count': 611371, 'lang': None, 'contributors_enabled': False, 'is_translator': False, 'is_translation_enabled': False, 'profile_background_color': 'C0DEED', 'profile_background_image_url': 'http://abs.twimg.com/images/themes/theme1/bg.png', 'profile_background_image_url_https': 'https://abs.twimg.com/images/themes/theme1/bg.png', 'profile_background_tile': False, 'profile_image_url': 'http://pbs.twimg.com/profile_images/1129666669054324736/1W_E72cn_normal.png', 'profile_image_url_https': 'https://pbs.twimg.com/profile_images/1129666669054324736/1W_E72cn_normal.png', 'profile_banner_url': 'https://pbs.twimg.com/profile_banners/134758540/1604655639', 'profile_link_color': '0084B4', 'profile_sidebar_border_color': 'C0DEED', 'profile_sidebar_fill_color': 'DDEEF6', 'profile_text_color': '333333', 'profile_use_background_image': True, 'has_extended_profile': False, 'default_profile': False, 'default_profile_image': False, 'following': False, 'follow_request_sent': False, 'notifications': False, 'translator_type': 'regular'}, id=134758540, id_str='134758540', name='The Times Of India', screen_name='timesofindia', location='New Delhi', description='News. Views. Analysis. Conversations. India’s No.1 digital news destination, world’s largest-selling English newspaper - A Times Internet Limited Product', url='https://t.co/JxQOlwNQ7E', entities={'url': {'urls': [{'url': 'https://t.co/JxQOlwNQ7E', 'expanded_url': 'http://www.timesofindia.com', 'display_url': 'timesofindia.com', 'indices': [0, 23]}]}, 'description': {'urls': []}}, protected=False, followers_count=13215158, friends_count=506, listed_count=11509, created_at=datetime.datetime(2010, 4, 19, 10, 50, 15), favourites_count=6, utc_offset=None, time_zone=None, geo_enabled=False, verified=True, statuses_count=611371, lang=None, contributors_enabled=False, is_translator=False, is_translation_enabled=False, profile_background_color='C0DEED', profile_background_image_url='http://abs.twimg.com/images/themes/theme1/bg.png', profile_background_image_url_https='https://abs.twimg.com/images/themes/theme1/bg.png', profile_background_tile=False, profile_image_url='http://pbs.twimg.com/profile_images/1129666669054324736/1W_E72cn_normal.png', profile_image_url_https='https://pbs.twimg.com/profile_images/1129666669054324736/1W_E72cn_normal.png', profile_banner_url='https://pbs.twimg.com/profile_banners/134758540/1604655639', profile_link_color='0084B4', profile_sidebar_border_color='C0DEED', profile_sidebar_fill_color='DDEEF6', profile_text_color='333333', profile_use_background_image=True, has_extended_profile=False, default_profile=False, default_profile_image=False, following=False, follow_request_sent=False, notifications=False, translator_type='regular'), geo=None, coordinates=None, place=None, contributors=None, is_quote_status=False, retweet_count=0, favorite_count=0, favorited=False, retweeted=False, possibly_sensitive=False, lang='en') \n",
      "\n",
      ".....................................\n",
      "\n",
      "Status(_api=<tweepy.api.API object at 0x0000027DB9D291C8>, _json={'created_at': 'Mon Nov 09 09:21:34 +0000 2020', 'id': 1325730237397798912, 'id_str': '1325730237397798912', 'full_text': 'LIVE: 2 BSF personnel among six new Covid-19 cases in Mizoram - Hindustan Times https://t.co/NXF5BApvfZ', 'truncated': False, 'display_text_range': [0, 103], 'entities': {'hashtags': [], 'symbols': [], 'user_mentions': [], 'urls': [{'url': 'https://t.co/NXF5BApvfZ', 'expanded_url': 'https://ift.tt/2GHVHc9', 'display_url': 'ift.tt/2GHVHc9', 'indices': [80, 103]}]}, 'metadata': {'iso_language_code': 'en', 'result_type': 'recent'}, 'source': '<a href=\"https://ifttt.com\" rel=\"nofollow\">IFTTT</a>', 'in_reply_to_status_id': None, 'in_reply_to_status_id_str': None, 'in_reply_to_user_id': None, 'in_reply_to_user_id_str': None, 'in_reply_to_screen_name': None, 'user': {'id': 76511346, 'id_str': '76511346', 'name': 'Chanchinthar', 'screen_name': 'chanchinthar', 'location': 'Serchhip, India', 'description': '#Mizoram leh #Mizo #Chanchinthar, an initiatives of @KhampatMedia from @Zothlifim Office, #Serchhip.\\n\\nWe believe in #FreePress🗣️.\\n\\n(No endorsement re/tweeted).', 'url': 'https://t.co/Wu6E5y04nm', 'entities': {'url': {'urls': [{'url': 'https://t.co/Wu6E5y04nm', 'expanded_url': 'http://www.khampat.com', 'display_url': 'khampat.com', 'indices': [0, 23]}]}, 'description': {'urls': []}}, 'protected': False, 'followers_count': 5050, 'friends_count': 34, 'listed_count': 3, 'created_at': 'Wed Sep 23 00:58:12 +0000 2009', 'favourites_count': 1347, 'utc_offset': None, 'time_zone': None, 'geo_enabled': True, 'verified': False, 'statuses_count': 12462, 'lang': None, 'contributors_enabled': False, 'is_translator': False, 'is_translation_enabled': True, 'profile_background_color': '000000', 'profile_background_image_url': 'http://abs.twimg.com/images/themes/theme4/bg.gif', 'profile_background_image_url_https': 'https://abs.twimg.com/images/themes/theme4/bg.gif', 'profile_background_tile': False, 'profile_image_url': 'http://pbs.twimg.com/profile_images/977849474281189376/BLIIoUkx_normal.jpg', 'profile_image_url_https': 'https://pbs.twimg.com/profile_images/977849474281189376/BLIIoUkx_normal.jpg', 'profile_banner_url': 'https://pbs.twimg.com/profile_banners/76511346/1521973205', 'profile_link_color': '1B95E0', 'profile_sidebar_border_color': '000000', 'profile_sidebar_fill_color': '000000', 'profile_text_color': '000000', 'profile_use_background_image': False, 'has_extended_profile': True, 'default_profile': False, 'default_profile_image': False, 'following': False, 'follow_request_sent': False, 'notifications': False, 'translator_type': 'none'}, 'geo': None, 'coordinates': None, 'place': None, 'contributors': None, 'is_quote_status': False, 'retweet_count': 0, 'favorite_count': 0, 'favorited': False, 'retweeted': False, 'possibly_sensitive': False, 'lang': 'en'}, created_at=datetime.datetime(2020, 11, 9, 9, 21, 34), id=1325730237397798912, id_str='1325730237397798912', full_text='LIVE: 2 BSF personnel among six new Covid-19 cases in Mizoram - Hindustan Times https://t.co/NXF5BApvfZ', truncated=False, display_text_range=[0, 103], entities={'hashtags': [], 'symbols': [], 'user_mentions': [], 'urls': [{'url': 'https://t.co/NXF5BApvfZ', 'expanded_url': 'https://ift.tt/2GHVHc9', 'display_url': 'ift.tt/2GHVHc9', 'indices': [80, 103]}]}, metadata={'iso_language_code': 'en', 'result_type': 'recent'}, source='IFTTT', source_url='https://ifttt.com', in_reply_to_status_id=None, in_reply_to_status_id_str=None, in_reply_to_user_id=None, in_reply_to_user_id_str=None, in_reply_to_screen_name=None, author=User(_api=<tweepy.api.API object at 0x0000027DB9D291C8>, _json={'id': 76511346, 'id_str': '76511346', 'name': 'Chanchinthar', 'screen_name': 'chanchinthar', 'location': 'Serchhip, India', 'description': '#Mizoram leh #Mizo #Chanchinthar, an initiatives of @KhampatMedia from @Zothlifim Office, #Serchhip.\\n\\nWe believe in #FreePress🗣️.\\n\\n(No endorsement re/tweeted).', 'url': 'https://t.co/Wu6E5y04nm', 'entities': {'url': {'urls': [{'url': 'https://t.co/Wu6E5y04nm', 'expanded_url': 'http://www.khampat.com', 'display_url': 'khampat.com', 'indices': [0, 23]}]}, 'description': {'urls': []}}, 'protected': False, 'followers_count': 5050, 'friends_count': 34, 'listed_count': 3, 'created_at': 'Wed Sep 23 00:58:12 +0000 2009', 'favourites_count': 1347, 'utc_offset': None, 'time_zone': None, 'geo_enabled': True, 'verified': False, 'statuses_count': 12462, 'lang': None, 'contributors_enabled': False, 'is_translator': False, 'is_translation_enabled': True, 'profile_background_color': '000000', 'profile_background_image_url': 'http://abs.twimg.com/images/themes/theme4/bg.gif', 'profile_background_image_url_https': 'https://abs.twimg.com/images/themes/theme4/bg.gif', 'profile_background_tile': False, 'profile_image_url': 'http://pbs.twimg.com/profile_images/977849474281189376/BLIIoUkx_normal.jpg', 'profile_image_url_https': 'https://pbs.twimg.com/profile_images/977849474281189376/BLIIoUkx_normal.jpg', 'profile_banner_url': 'https://pbs.twimg.com/profile_banners/76511346/1521973205', 'profile_link_color': '1B95E0', 'profile_sidebar_border_color': '000000', 'profile_sidebar_fill_color': '000000', 'profile_text_color': '000000', 'profile_use_background_image': False, 'has_extended_profile': True, 'default_profile': False, 'default_profile_image': False, 'following': False, 'follow_request_sent': False, 'notifications': False, 'translator_type': 'none'}, id=76511346, id_str='76511346', name='Chanchinthar', screen_name='chanchinthar', location='Serchhip, India', description='#Mizoram leh #Mizo #Chanchinthar, an initiatives of @KhampatMedia from @Zothlifim Office, #Serchhip.\\n\\nWe believe in #FreePress🗣️.\\n\\n(No endorsement re/tweeted).', url='https://t.co/Wu6E5y04nm', entities={'url': {'urls': [{'url': 'https://t.co/Wu6E5y04nm', 'expanded_url': 'http://www.khampat.com', 'display_url': 'khampat.com', 'indices': [0, 23]}]}, 'description': {'urls': []}}, protected=False, followers_count=5050, friends_count=34, listed_count=3, created_at=datetime.datetime(2009, 9, 23, 0, 58, 12), favourites_count=1347, utc_offset=None, time_zone=None, geo_enabled=True, verified=False, statuses_count=12462, lang=None, contributors_enabled=False, is_translator=False, is_translation_enabled=True, profile_background_color='000000', profile_background_image_url='http://abs.twimg.com/images/themes/theme4/bg.gif', profile_background_image_url_https='https://abs.twimg.com/images/themes/theme4/bg.gif', profile_background_tile=False, profile_image_url='http://pbs.twimg.com/profile_images/977849474281189376/BLIIoUkx_normal.jpg', profile_image_url_https='https://pbs.twimg.com/profile_images/977849474281189376/BLIIoUkx_normal.jpg', profile_banner_url='https://pbs.twimg.com/profile_banners/76511346/1521973205', profile_link_color='1B95E0', profile_sidebar_border_color='000000', profile_sidebar_fill_color='000000', profile_text_color='000000', profile_use_background_image=False, has_extended_profile=True, default_profile=False, default_profile_image=False, following=False, follow_request_sent=False, notifications=False, translator_type='none'), user=User(_api=<tweepy.api.API object at 0x0000027DB9D291C8>, _json={'id': 76511346, 'id_str': '76511346', 'name': 'Chanchinthar', 'screen_name': 'chanchinthar', 'location': 'Serchhip, India', 'description': '#Mizoram leh #Mizo #Chanchinthar, an initiatives of @KhampatMedia from @Zothlifim Office, #Serchhip.\\n\\nWe believe in #FreePress🗣️.\\n\\n(No endorsement re/tweeted).', 'url': 'https://t.co/Wu6E5y04nm', 'entities': {'url': {'urls': [{'url': 'https://t.co/Wu6E5y04nm', 'expanded_url': 'http://www.khampat.com', 'display_url': 'khampat.com', 'indices': [0, 23]}]}, 'description': {'urls': []}}, 'protected': False, 'followers_count': 5050, 'friends_count': 34, 'listed_count': 3, 'created_at': 'Wed Sep 23 00:58:12 +0000 2009', 'favourites_count': 1347, 'utc_offset': None, 'time_zone': None, 'geo_enabled': True, 'verified': False, 'statuses_count': 12462, 'lang': None, 'contributors_enabled': False, 'is_translator': False, 'is_translation_enabled': True, 'profile_background_color': '000000', 'profile_background_image_url': 'http://abs.twimg.com/images/themes/theme4/bg.gif', 'profile_background_image_url_https': 'https://abs.twimg.com/images/themes/theme4/bg.gif', 'profile_background_tile': False, 'profile_image_url': 'http://pbs.twimg.com/profile_images/977849474281189376/BLIIoUkx_normal.jpg', 'profile_image_url_https': 'https://pbs.twimg.com/profile_images/977849474281189376/BLIIoUkx_normal.jpg', 'profile_banner_url': 'https://pbs.twimg.com/profile_banners/76511346/1521973205', 'profile_link_color': '1B95E0', 'profile_sidebar_border_color': '000000', 'profile_sidebar_fill_color': '000000', 'profile_text_color': '000000', 'profile_use_background_image': False, 'has_extended_profile': True, 'default_profile': False, 'default_profile_image': False, 'following': False, 'follow_request_sent': False, 'notifications': False, 'translator_type': 'none'}, id=76511346, id_str='76511346', name='Chanchinthar', screen_name='chanchinthar', location='Serchhip, India', description='#Mizoram leh #Mizo #Chanchinthar, an initiatives of @KhampatMedia from @Zothlifim Office, #Serchhip.\\n\\nWe believe in #FreePress🗣️.\\n\\n(No endorsement re/tweeted).', url='https://t.co/Wu6E5y04nm', entities={'url': {'urls': [{'url': 'https://t.co/Wu6E5y04nm', 'expanded_url': 'http://www.khampat.com', 'display_url': 'khampat.com', 'indices': [0, 23]}]}, 'description': {'urls': []}}, protected=False, followers_count=5050, friends_count=34, listed_count=3, created_at=datetime.datetime(2009, 9, 23, 0, 58, 12), favourites_count=1347, utc_offset=None, time_zone=None, geo_enabled=True, verified=False, statuses_count=12462, lang=None, contributors_enabled=False, is_translator=False, is_translation_enabled=True, profile_background_color='000000', profile_background_image_url='http://abs.twimg.com/images/themes/theme4/bg.gif', profile_background_image_url_https='https://abs.twimg.com/images/themes/theme4/bg.gif', profile_background_tile=False, profile_image_url='http://pbs.twimg.com/profile_images/977849474281189376/BLIIoUkx_normal.jpg', profile_image_url_https='https://pbs.twimg.com/profile_images/977849474281189376/BLIIoUkx_normal.jpg', profile_banner_url='https://pbs.twimg.com/profile_banners/76511346/1521973205', profile_link_color='1B95E0', profile_sidebar_border_color='000000', profile_sidebar_fill_color='000000', profile_text_color='000000', profile_use_background_image=False, has_extended_profile=True, default_profile=False, default_profile_image=False, following=False, follow_request_sent=False, notifications=False, translator_type='none'), geo=None, coordinates=None, place=None, contributors=None, is_quote_status=False, retweet_count=0, favorite_count=0, favorited=False, retweeted=False, possibly_sensitive=False, lang='en') \n",
      "\n",
      ".....................................\n",
      "\n",
      "Status(_api=<tweepy.api.API object at 0x0000027DB9D291C8>, _json={'created_at': 'Mon Nov 09 09:15:00 +0000 2020', 'id': 1325728585236291584, 'id_str': '1325728585236291584', 'full_text': '#Delhi overtakes #Maharashtra, #Kerala as highest contributor to new #COVID19 cases with 7,745 new cases in the last 24 hours \\n\\nhttps://t.co/VxwFOFpULe https://t.co/EzyxzuFr5B', 'truncated': False, 'display_text_range': [0, 151], 'entities': {'hashtags': [{'text': 'Delhi', 'indices': [0, 6]}, {'text': 'Maharashtra', 'indices': [17, 29]}, {'text': 'Kerala', 'indices': [31, 38]}, {'text': 'COVID19', 'indices': [69, 77]}], 'symbols': [], 'user_mentions': [], 'urls': [{'url': 'https://t.co/VxwFOFpULe', 'expanded_url': 'https://www.businessinsider.in/india/news/delhi-overtakes-maharashtra-kerala-as-highest-contributor-to-new-covid-19-cases-with-7745-new-cases-in-the-last-24-hours/articleshow/79125755.cms', 'display_url': 'businessinsider.in/india/news/del…', 'indices': [128, 151]}], 'media': [{'id': 1325717326663020545, 'id_str': '1325717326663020545', 'indices': [152, 175], 'media_url': 'http://pbs.twimg.com/media/EmXk4nhUcAErMFH.jpg', 'media_url_https': 'https://pbs.twimg.com/media/EmXk4nhUcAErMFH.jpg', 'url': 'https://t.co/EzyxzuFr5B', 'display_url': 'pic.twitter.com/EzyxzuFr5B', 'expanded_url': 'https://twitter.com/BiIndia/status/1325728585236291584/photo/1', 'type': 'photo', 'sizes': {'thumb': {'w': 150, 'h': 150, 'resize': 'crop'}, 'large': {'w': 500, 'h': 332, 'resize': 'fit'}, 'small': {'w': 500, 'h': 332, 'resize': 'fit'}, 'medium': {'w': 500, 'h': 332, 'resize': 'fit'}}}]}, 'extended_entities': {'media': [{'id': 1325717326663020545, 'id_str': '1325717326663020545', 'indices': [152, 175], 'media_url': 'http://pbs.twimg.com/media/EmXk4nhUcAErMFH.jpg', 'media_url_https': 'https://pbs.twimg.com/media/EmXk4nhUcAErMFH.jpg', 'url': 'https://t.co/EzyxzuFr5B', 'display_url': 'pic.twitter.com/EzyxzuFr5B', 'expanded_url': 'https://twitter.com/BiIndia/status/1325728585236291584/photo/1', 'type': 'photo', 'sizes': {'thumb': {'w': 150, 'h': 150, 'resize': 'crop'}, 'large': {'w': 500, 'h': 332, 'resize': 'fit'}, 'small': {'w': 500, 'h': 332, 'resize': 'fit'}, 'medium': {'w': 500, 'h': 332, 'resize': 'fit'}}}]}, 'metadata': {'iso_language_code': 'en', 'result_type': 'recent'}, 'source': '<a href=\"https://about.twitter.com/products/tweetdeck\" rel=\"nofollow\">TweetDeck</a>', 'in_reply_to_status_id': None, 'in_reply_to_status_id_str': None, 'in_reply_to_user_id': None, 'in_reply_to_user_id_str': None, 'in_reply_to_screen_name': None, 'user': {'id': 1612504999, 'id_str': '1612504999', 'name': 'Business Insider India🇮🇳', 'screen_name': 'BiIndia', 'location': 'New Delhi, India', 'description': \"Intelligence for India's next generation.\", 'url': 'https://t.co/xcQfj1zy2H', 'entities': {'url': {'urls': [{'url': 'https://t.co/xcQfj1zy2H', 'expanded_url': 'https://www.businessinsider.in/', 'display_url': 'businessinsider.in', 'indices': [0, 23]}]}, 'description': {'urls': []}}, 'protected': False, 'followers_count': 72529, 'friends_count': 223, 'listed_count': 454, 'created_at': 'Mon Jul 22 09:56:50 +0000 2013', 'favourites_count': 152, 'utc_offset': None, 'time_zone': None, 'geo_enabled': False, 'verified': True, 'statuses_count': 50524, 'lang': None, 'contributors_enabled': False, 'is_translator': False, 'is_translation_enabled': False, 'profile_background_color': '000000', 'profile_background_image_url': 'http://abs.twimg.com/images/themes/theme1/bg.png', 'profile_background_image_url_https': 'https://abs.twimg.com/images/themes/theme1/bg.png', 'profile_background_tile': False, 'profile_image_url': 'http://pbs.twimg.com/profile_images/1232926719016718336/sfffJHNV_normal.jpg', 'profile_image_url_https': 'https://pbs.twimg.com/profile_images/1232926719016718336/sfffJHNV_normal.jpg', 'profile_banner_url': 'https://pbs.twimg.com/profile_banners/1612504999/1603693085', 'profile_link_color': '1B95E0', 'profile_sidebar_border_color': '000000', 'profile_sidebar_fill_color': '000000', 'profile_text_color': '000000', 'profile_use_background_image': False, 'has_extended_profile': False, 'default_profile': False, 'default_profile_image': False, 'following': False, 'follow_request_sent': False, 'notifications': False, 'translator_type': 'none'}, 'geo': None, 'coordinates': None, 'place': None, 'contributors': None, 'is_quote_status': False, 'retweet_count': 1, 'favorite_count': 6, 'favorited': False, 'retweeted': False, 'possibly_sensitive': False, 'lang': 'en'}, created_at=datetime.datetime(2020, 11, 9, 9, 15), id=1325728585236291584, id_str='1325728585236291584', full_text='#Delhi overtakes #Maharashtra, #Kerala as highest contributor to new #COVID19 cases with 7,745 new cases in the last 24 hours \\n\\nhttps://t.co/VxwFOFpULe https://t.co/EzyxzuFr5B', truncated=False, display_text_range=[0, 151], entities={'hashtags': [{'text': 'Delhi', 'indices': [0, 6]}, {'text': 'Maharashtra', 'indices': [17, 29]}, {'text': 'Kerala', 'indices': [31, 38]}, {'text': 'COVID19', 'indices': [69, 77]}], 'symbols': [], 'user_mentions': [], 'urls': [{'url': 'https://t.co/VxwFOFpULe', 'expanded_url': 'https://www.businessinsider.in/india/news/delhi-overtakes-maharashtra-kerala-as-highest-contributor-to-new-covid-19-cases-with-7745-new-cases-in-the-last-24-hours/articleshow/79125755.cms', 'display_url': 'businessinsider.in/india/news/del…', 'indices': [128, 151]}], 'media': [{'id': 1325717326663020545, 'id_str': '1325717326663020545', 'indices': [152, 175], 'media_url': 'http://pbs.twimg.com/media/EmXk4nhUcAErMFH.jpg', 'media_url_https': 'https://pbs.twimg.com/media/EmXk4nhUcAErMFH.jpg', 'url': 'https://t.co/EzyxzuFr5B', 'display_url': 'pic.twitter.com/EzyxzuFr5B', 'expanded_url': 'https://twitter.com/BiIndia/status/1325728585236291584/photo/1', 'type': 'photo', 'sizes': {'thumb': {'w': 150, 'h': 150, 'resize': 'crop'}, 'large': {'w': 500, 'h': 332, 'resize': 'fit'}, 'small': {'w': 500, 'h': 332, 'resize': 'fit'}, 'medium': {'w': 500, 'h': 332, 'resize': 'fit'}}}]}, extended_entities={'media': [{'id': 1325717326663020545, 'id_str': '1325717326663020545', 'indices': [152, 175], 'media_url': 'http://pbs.twimg.com/media/EmXk4nhUcAErMFH.jpg', 'media_url_https': 'https://pbs.twimg.com/media/EmXk4nhUcAErMFH.jpg', 'url': 'https://t.co/EzyxzuFr5B', 'display_url': 'pic.twitter.com/EzyxzuFr5B', 'expanded_url': 'https://twitter.com/BiIndia/status/1325728585236291584/photo/1', 'type': 'photo', 'sizes': {'thumb': {'w': 150, 'h': 150, 'resize': 'crop'}, 'large': {'w': 500, 'h': 332, 'resize': 'fit'}, 'small': {'w': 500, 'h': 332, 'resize': 'fit'}, 'medium': {'w': 500, 'h': 332, 'resize': 'fit'}}}]}, metadata={'iso_language_code': 'en', 'result_type': 'recent'}, source='TweetDeck', source_url='https://about.twitter.com/products/tweetdeck', in_reply_to_status_id=None, in_reply_to_status_id_str=None, in_reply_to_user_id=None, in_reply_to_user_id_str=None, in_reply_to_screen_name=None, author=User(_api=<tweepy.api.API object at 0x0000027DB9D291C8>, _json={'id': 1612504999, 'id_str': '1612504999', 'name': 'Business Insider India🇮🇳', 'screen_name': 'BiIndia', 'location': 'New Delhi, India', 'description': \"Intelligence for India's next generation.\", 'url': 'https://t.co/xcQfj1zy2H', 'entities': {'url': {'urls': [{'url': 'https://t.co/xcQfj1zy2H', 'expanded_url': 'https://www.businessinsider.in/', 'display_url': 'businessinsider.in', 'indices': [0, 23]}]}, 'description': {'urls': []}}, 'protected': False, 'followers_count': 72529, 'friends_count': 223, 'listed_count': 454, 'created_at': 'Mon Jul 22 09:56:50 +0000 2013', 'favourites_count': 152, 'utc_offset': None, 'time_zone': None, 'geo_enabled': False, 'verified': True, 'statuses_count': 50524, 'lang': None, 'contributors_enabled': False, 'is_translator': False, 'is_translation_enabled': False, 'profile_background_color': '000000', 'profile_background_image_url': 'http://abs.twimg.com/images/themes/theme1/bg.png', 'profile_background_image_url_https': 'https://abs.twimg.com/images/themes/theme1/bg.png', 'profile_background_tile': False, 'profile_image_url': 'http://pbs.twimg.com/profile_images/1232926719016718336/sfffJHNV_normal.jpg', 'profile_image_url_https': 'https://pbs.twimg.com/profile_images/1232926719016718336/sfffJHNV_normal.jpg', 'profile_banner_url': 'https://pbs.twimg.com/profile_banners/1612504999/1603693085', 'profile_link_color': '1B95E0', 'profile_sidebar_border_color': '000000', 'profile_sidebar_fill_color': '000000', 'profile_text_color': '000000', 'profile_use_background_image': False, 'has_extended_profile': False, 'default_profile': False, 'default_profile_image': False, 'following': False, 'follow_request_sent': False, 'notifications': False, 'translator_type': 'none'}, id=1612504999, id_str='1612504999', name='Business Insider India🇮🇳', screen_name='BiIndia', location='New Delhi, India', description=\"Intelligence for India's next generation.\", url='https://t.co/xcQfj1zy2H', entities={'url': {'urls': [{'url': 'https://t.co/xcQfj1zy2H', 'expanded_url': 'https://www.businessinsider.in/', 'display_url': 'businessinsider.in', 'indices': [0, 23]}]}, 'description': {'urls': []}}, protected=False, followers_count=72529, friends_count=223, listed_count=454, created_at=datetime.datetime(2013, 7, 22, 9, 56, 50), favourites_count=152, utc_offset=None, time_zone=None, geo_enabled=False, verified=True, statuses_count=50524, lang=None, contributors_enabled=False, is_translator=False, is_translation_enabled=False, profile_background_color='000000', profile_background_image_url='http://abs.twimg.com/images/themes/theme1/bg.png', profile_background_image_url_https='https://abs.twimg.com/images/themes/theme1/bg.png', profile_background_tile=False, profile_image_url='http://pbs.twimg.com/profile_images/1232926719016718336/sfffJHNV_normal.jpg', profile_image_url_https='https://pbs.twimg.com/profile_images/1232926719016718336/sfffJHNV_normal.jpg', profile_banner_url='https://pbs.twimg.com/profile_banners/1612504999/1603693085', profile_link_color='1B95E0', profile_sidebar_border_color='000000', profile_sidebar_fill_color='000000', profile_text_color='000000', profile_use_background_image=False, has_extended_profile=False, default_profile=False, default_profile_image=False, following=False, follow_request_sent=False, notifications=False, translator_type='none'), user=User(_api=<tweepy.api.API object at 0x0000027DB9D291C8>, _json={'id': 1612504999, 'id_str': '1612504999', 'name': 'Business Insider India🇮🇳', 'screen_name': 'BiIndia', 'location': 'New Delhi, India', 'description': \"Intelligence for India's next generation.\", 'url': 'https://t.co/xcQfj1zy2H', 'entities': {'url': {'urls': [{'url': 'https://t.co/xcQfj1zy2H', 'expanded_url': 'https://www.businessinsider.in/', 'display_url': 'businessinsider.in', 'indices': [0, 23]}]}, 'description': {'urls': []}}, 'protected': False, 'followers_count': 72529, 'friends_count': 223, 'listed_count': 454, 'created_at': 'Mon Jul 22 09:56:50 +0000 2013', 'favourites_count': 152, 'utc_offset': None, 'time_zone': None, 'geo_enabled': False, 'verified': True, 'statuses_count': 50524, 'lang': None, 'contributors_enabled': False, 'is_translator': False, 'is_translation_enabled': False, 'profile_background_color': '000000', 'profile_background_image_url': 'http://abs.twimg.com/images/themes/theme1/bg.png', 'profile_background_image_url_https': 'https://abs.twimg.com/images/themes/theme1/bg.png', 'profile_background_tile': False, 'profile_image_url': 'http://pbs.twimg.com/profile_images/1232926719016718336/sfffJHNV_normal.jpg', 'profile_image_url_https': 'https://pbs.twimg.com/profile_images/1232926719016718336/sfffJHNV_normal.jpg', 'profile_banner_url': 'https://pbs.twimg.com/profile_banners/1612504999/1603693085', 'profile_link_color': '1B95E0', 'profile_sidebar_border_color': '000000', 'profile_sidebar_fill_color': '000000', 'profile_text_color': '000000', 'profile_use_background_image': False, 'has_extended_profile': False, 'default_profile': False, 'default_profile_image': False, 'following': False, 'follow_request_sent': False, 'notifications': False, 'translator_type': 'none'}, id=1612504999, id_str='1612504999', name='Business Insider India🇮🇳', screen_name='BiIndia', location='New Delhi, India', description=\"Intelligence for India's next generation.\", url='https://t.co/xcQfj1zy2H', entities={'url': {'urls': [{'url': 'https://t.co/xcQfj1zy2H', 'expanded_url': 'https://www.businessinsider.in/', 'display_url': 'businessinsider.in', 'indices': [0, 23]}]}, 'description': {'urls': []}}, protected=False, followers_count=72529, friends_count=223, listed_count=454, created_at=datetime.datetime(2013, 7, 22, 9, 56, 50), favourites_count=152, utc_offset=None, time_zone=None, geo_enabled=False, verified=True, statuses_count=50524, lang=None, contributors_enabled=False, is_translator=False, is_translation_enabled=False, profile_background_color='000000', profile_background_image_url='http://abs.twimg.com/images/themes/theme1/bg.png', profile_background_image_url_https='https://abs.twimg.com/images/themes/theme1/bg.png', profile_background_tile=False, profile_image_url='http://pbs.twimg.com/profile_images/1232926719016718336/sfffJHNV_normal.jpg', profile_image_url_https='https://pbs.twimg.com/profile_images/1232926719016718336/sfffJHNV_normal.jpg', profile_banner_url='https://pbs.twimg.com/profile_banners/1612504999/1603693085', profile_link_color='1B95E0', profile_sidebar_border_color='000000', profile_sidebar_fill_color='000000', profile_text_color='000000', profile_use_background_image=False, has_extended_profile=False, default_profile=False, default_profile_image=False, following=False, follow_request_sent=False, notifications=False, translator_type='none'), geo=None, coordinates=None, place=None, contributors=None, is_quote_status=False, retweet_count=1, favorite_count=6, favorited=False, retweeted=False, possibly_sensitive=False, lang='en') \n",
      "\n",
      ".....................................\n",
      "\n",
      "Status(_api=<tweepy.api.API object at 0x0000027DB9D291C8>, _json={'created_at': 'Mon Nov 09 09:07:10 +0000 2020', 'id': 1325726616916385793, 'id_str': '1325726616916385793', 'full_text': 'Is it compulsory for a college to conduct exams even if few covid +ve cases have been encountered in the college? @ugc_india @EduMinOfIndia', 'truncated': False, 'display_text_range': [0, 139], 'entities': {'hashtags': [], 'symbols': [], 'user_mentions': [{'screen_name': 'ugc_india', 'name': 'UGC INDIA', 'id': 870103719290982401, 'id_str': '870103719290982401', 'indices': [114, 124]}, {'screen_name': 'EduMinOfIndia', 'name': 'Ministry of Education', 'id': 2574232910, 'id_str': '2574232910', 'indices': [125, 139]}], 'urls': []}, 'metadata': {'iso_language_code': 'en', 'result_type': 'recent'}, 'source': '<a href=\"http://twitter.com/download/android\" rel=\"nofollow\">Twitter for Android</a>', 'in_reply_to_status_id': None, 'in_reply_to_status_id_str': None, 'in_reply_to_user_id': None, 'in_reply_to_user_id_str': None, 'in_reply_to_screen_name': None, 'user': {'id': 1015091529717706757, 'id_str': '1015091529717706757', 'name': 'Manesh', 'screen_name': 'manessshhh', 'location': 'Visakhapatnam', 'description': 'Thought of doing something productive, so started tweeting.', 'url': None, 'entities': {'description': {'urls': []}}, 'protected': False, 'followers_count': 36, 'friends_count': 201, 'listed_count': 0, 'created_at': 'Fri Jul 06 04:34:14 +0000 2018', 'favourites_count': 874, 'utc_offset': None, 'time_zone': None, 'geo_enabled': True, 'verified': False, 'statuses_count': 165, 'lang': None, 'contributors_enabled': False, 'is_translator': False, 'is_translation_enabled': False, 'profile_background_color': 'F5F8FA', 'profile_background_image_url': None, 'profile_background_image_url_https': None, 'profile_background_tile': False, 'profile_image_url': 'http://pbs.twimg.com/profile_images/1314748434541244417/6pOuZwVb_normal.jpg', 'profile_image_url_https': 'https://pbs.twimg.com/profile_images/1314748434541244417/6pOuZwVb_normal.jpg', 'profile_banner_url': 'https://pbs.twimg.com/profile_banners/1015091529717706757/1600099919', 'profile_link_color': '1DA1F2', 'profile_sidebar_border_color': 'C0DEED', 'profile_sidebar_fill_color': 'DDEEF6', 'profile_text_color': '333333', 'profile_use_background_image': True, 'has_extended_profile': True, 'default_profile': True, 'default_profile_image': False, 'following': False, 'follow_request_sent': False, 'notifications': False, 'translator_type': 'none'}, 'geo': None, 'coordinates': None, 'place': None, 'contributors': None, 'is_quote_status': False, 'retweet_count': 0, 'favorite_count': 0, 'favorited': False, 'retweeted': False, 'lang': 'en'}, created_at=datetime.datetime(2020, 11, 9, 9, 7, 10), id=1325726616916385793, id_str='1325726616916385793', full_text='Is it compulsory for a college to conduct exams even if few covid +ve cases have been encountered in the college? @ugc_india @EduMinOfIndia', truncated=False, display_text_range=[0, 139], entities={'hashtags': [], 'symbols': [], 'user_mentions': [{'screen_name': 'ugc_india', 'name': 'UGC INDIA', 'id': 870103719290982401, 'id_str': '870103719290982401', 'indices': [114, 124]}, {'screen_name': 'EduMinOfIndia', 'name': 'Ministry of Education', 'id': 2574232910, 'id_str': '2574232910', 'indices': [125, 139]}], 'urls': []}, metadata={'iso_language_code': 'en', 'result_type': 'recent'}, source='Twitter for Android', source_url='http://twitter.com/download/android', in_reply_to_status_id=None, in_reply_to_status_id_str=None, in_reply_to_user_id=None, in_reply_to_user_id_str=None, in_reply_to_screen_name=None, author=User(_api=<tweepy.api.API object at 0x0000027DB9D291C8>, _json={'id': 1015091529717706757, 'id_str': '1015091529717706757', 'name': 'Manesh', 'screen_name': 'manessshhh', 'location': 'Visakhapatnam', 'description': 'Thought of doing something productive, so started tweeting.', 'url': None, 'entities': {'description': {'urls': []}}, 'protected': False, 'followers_count': 36, 'friends_count': 201, 'listed_count': 0, 'created_at': 'Fri Jul 06 04:34:14 +0000 2018', 'favourites_count': 874, 'utc_offset': None, 'time_zone': None, 'geo_enabled': True, 'verified': False, 'statuses_count': 165, 'lang': None, 'contributors_enabled': False, 'is_translator': False, 'is_translation_enabled': False, 'profile_background_color': 'F5F8FA', 'profile_background_image_url': None, 'profile_background_image_url_https': None, 'profile_background_tile': False, 'profile_image_url': 'http://pbs.twimg.com/profile_images/1314748434541244417/6pOuZwVb_normal.jpg', 'profile_image_url_https': 'https://pbs.twimg.com/profile_images/1314748434541244417/6pOuZwVb_normal.jpg', 'profile_banner_url': 'https://pbs.twimg.com/profile_banners/1015091529717706757/1600099919', 'profile_link_color': '1DA1F2', 'profile_sidebar_border_color': 'C0DEED', 'profile_sidebar_fill_color': 'DDEEF6', 'profile_text_color': '333333', 'profile_use_background_image': True, 'has_extended_profile': True, 'default_profile': True, 'default_profile_image': False, 'following': False, 'follow_request_sent': False, 'notifications': False, 'translator_type': 'none'}, id=1015091529717706757, id_str='1015091529717706757', name='Manesh', screen_name='manessshhh', location='Visakhapatnam', description='Thought of doing something productive, so started tweeting.', url=None, entities={'description': {'urls': []}}, protected=False, followers_count=36, friends_count=201, listed_count=0, created_at=datetime.datetime(2018, 7, 6, 4, 34, 14), favourites_count=874, utc_offset=None, time_zone=None, geo_enabled=True, verified=False, statuses_count=165, lang=None, contributors_enabled=False, is_translator=False, is_translation_enabled=False, profile_background_color='F5F8FA', profile_background_image_url=None, profile_background_image_url_https=None, profile_background_tile=False, profile_image_url='http://pbs.twimg.com/profile_images/1314748434541244417/6pOuZwVb_normal.jpg', profile_image_url_https='https://pbs.twimg.com/profile_images/1314748434541244417/6pOuZwVb_normal.jpg', profile_banner_url='https://pbs.twimg.com/profile_banners/1015091529717706757/1600099919', profile_link_color='1DA1F2', profile_sidebar_border_color='C0DEED', profile_sidebar_fill_color='DDEEF6', profile_text_color='333333', profile_use_background_image=True, has_extended_profile=True, default_profile=True, default_profile_image=False, following=False, follow_request_sent=False, notifications=False, translator_type='none'), user=User(_api=<tweepy.api.API object at 0x0000027DB9D291C8>, _json={'id': 1015091529717706757, 'id_str': '1015091529717706757', 'name': 'Manesh', 'screen_name': 'manessshhh', 'location': 'Visakhapatnam', 'description': 'Thought of doing something productive, so started tweeting.', 'url': None, 'entities': {'description': {'urls': []}}, 'protected': False, 'followers_count': 36, 'friends_count': 201, 'listed_count': 0, 'created_at': 'Fri Jul 06 04:34:14 +0000 2018', 'favourites_count': 874, 'utc_offset': None, 'time_zone': None, 'geo_enabled': True, 'verified': False, 'statuses_count': 165, 'lang': None, 'contributors_enabled': False, 'is_translator': False, 'is_translation_enabled': False, 'profile_background_color': 'F5F8FA', 'profile_background_image_url': None, 'profile_background_image_url_https': None, 'profile_background_tile': False, 'profile_image_url': 'http://pbs.twimg.com/profile_images/1314748434541244417/6pOuZwVb_normal.jpg', 'profile_image_url_https': 'https://pbs.twimg.com/profile_images/1314748434541244417/6pOuZwVb_normal.jpg', 'profile_banner_url': 'https://pbs.twimg.com/profile_banners/1015091529717706757/1600099919', 'profile_link_color': '1DA1F2', 'profile_sidebar_border_color': 'C0DEED', 'profile_sidebar_fill_color': 'DDEEF6', 'profile_text_color': '333333', 'profile_use_background_image': True, 'has_extended_profile': True, 'default_profile': True, 'default_profile_image': False, 'following': False, 'follow_request_sent': False, 'notifications': False, 'translator_type': 'none'}, id=1015091529717706757, id_str='1015091529717706757', name='Manesh', screen_name='manessshhh', location='Visakhapatnam', description='Thought of doing something productive, so started tweeting.', url=None, entities={'description': {'urls': []}}, protected=False, followers_count=36, friends_count=201, listed_count=0, created_at=datetime.datetime(2018, 7, 6, 4, 34, 14), favourites_count=874, utc_offset=None, time_zone=None, geo_enabled=True, verified=False, statuses_count=165, lang=None, contributors_enabled=False, is_translator=False, is_translation_enabled=False, profile_background_color='F5F8FA', profile_background_image_url=None, profile_background_image_url_https=None, profile_background_tile=False, profile_image_url='http://pbs.twimg.com/profile_images/1314748434541244417/6pOuZwVb_normal.jpg', profile_image_url_https='https://pbs.twimg.com/profile_images/1314748434541244417/6pOuZwVb_normal.jpg', profile_banner_url='https://pbs.twimg.com/profile_banners/1015091529717706757/1600099919', profile_link_color='1DA1F2', profile_sidebar_border_color='C0DEED', profile_sidebar_fill_color='DDEEF6', profile_text_color='333333', profile_use_background_image=True, has_extended_profile=True, default_profile=True, default_profile_image=False, following=False, follow_request_sent=False, notifications=False, translator_type='none'), geo=None, coordinates=None, place=None, contributors=None, is_quote_status=False, retweet_count=0, favorite_count=0, favorited=False, retweeted=False, lang='en') \n",
      "\n",
      ".....................................\n",
      "\n",
      "Status(_api=<tweepy.api.API object at 0x0000027DB9D291C8>, _json={'created_at': 'Mon Nov 09 09:01:10 +0000 2020', 'id': 1325725104148459520, 'id_str': '1325725104148459520', 'full_text': 'Get latest updates on COVID-19 India https://t.co/k0Xz2h1Fo5\\nTotal cases in India: 8553657 | No. of New Cases in India: 45903\\nCheck India Map for New cases...\\n#SmartenAnalytics #COVID19Updates #FightCoronavirus #fightCOVID19 #stayathome #coronavirusindia https://t.co/HzELKvhbro', 'truncated': False, 'display_text_range': [0, 254], 'entities': {'hashtags': [{'text': 'SmartenAnalytics', 'indices': [159, 176]}, {'text': 'COVID19Updates', 'indices': [177, 192]}, {'text': 'FightCoronavirus', 'indices': [193, 210]}, {'text': 'fightCOVID19', 'indices': [211, 224]}, {'text': 'stayathome', 'indices': [225, 236]}, {'text': 'coronavirusindia', 'indices': [237, 254]}], 'symbols': [], 'user_mentions': [], 'urls': [{'url': 'https://t.co/k0Xz2h1Fo5', 'expanded_url': 'http://ow.ly/SW7u30qwzET', 'display_url': 'ow.ly/SW7u30qwzET', 'indices': [37, 60]}], 'media': [{'id': 1325725103024431104, 'id_str': '1325725103024431104', 'indices': [255, 278], 'media_url': 'http://pbs.twimg.com/media/EmXr9QuW4AAKHhF.png', 'media_url_https': 'https://pbs.twimg.com/media/EmXr9QuW4AAKHhF.png', 'url': 'https://t.co/HzELKvhbro', 'display_url': 'pic.twitter.com/HzELKvhbro', 'expanded_url': 'https://twitter.com/ElegantJBI/status/1325725104148459520/photo/1', 'type': 'photo', 'sizes': {'large': {'w': 651, 'h': 649, 'resize': 'fit'}, 'medium': {'w': 651, 'h': 649, 'resize': 'fit'}, 'small': {'w': 651, 'h': 649, 'resize': 'fit'}, 'thumb': {'w': 150, 'h': 150, 'resize': 'crop'}}}]}, 'extended_entities': {'media': [{'id': 1325725103024431104, 'id_str': '1325725103024431104', 'indices': [255, 278], 'media_url': 'http://pbs.twimg.com/media/EmXr9QuW4AAKHhF.png', 'media_url_https': 'https://pbs.twimg.com/media/EmXr9QuW4AAKHhF.png', 'url': 'https://t.co/HzELKvhbro', 'display_url': 'pic.twitter.com/HzELKvhbro', 'expanded_url': 'https://twitter.com/ElegantJBI/status/1325725104148459520/photo/1', 'type': 'photo', 'sizes': {'large': {'w': 651, 'h': 649, 'resize': 'fit'}, 'medium': {'w': 651, 'h': 649, 'resize': 'fit'}, 'small': {'w': 651, 'h': 649, 'resize': 'fit'}, 'thumb': {'w': 150, 'h': 150, 'resize': 'crop'}}}]}, 'metadata': {'iso_language_code': 'en', 'result_type': 'recent'}, 'source': '<a href=\"https://www.hootsuite.com\" rel=\"nofollow\">Hootsuite Inc.</a>', 'in_reply_to_status_id': None, 'in_reply_to_status_id_str': None, 'in_reply_to_user_id': None, 'in_reply_to_user_id_str': None, 'in_reply_to_screen_name': None, 'user': {'id': 53324855, 'id_str': '53324855', 'name': 'ElegantJ BI', 'screen_name': 'ElegantJBI', 'location': 'Ahmedabad, Gujarat, India', 'description': 'ReImagine #BusinessIntelligence with ElegantJ BI - Advanced #DataDiscovery, Managed Memory Computing, Deep Dive, #SocialBI, #MobileBI, #KPI Analytics', 'url': 'https://t.co/vhjNGqBrEk', 'entities': {'url': {'urls': [{'url': 'https://t.co/vhjNGqBrEk', 'expanded_url': 'https://www.elegantjbi.com', 'display_url': 'elegantjbi.com', 'indices': [0, 23]}]}, 'description': {'urls': []}}, 'protected': False, 'followers_count': 1259, 'friends_count': 4451, 'listed_count': 75, 'created_at': 'Fri Jul 03 07:34:21 +0000 2009', 'favourites_count': 1308, 'utc_offset': None, 'time_zone': None, 'geo_enabled': False, 'verified': False, 'statuses_count': 2131, 'lang': None, 'contributors_enabled': False, 'is_translator': False, 'is_translation_enabled': False, 'profile_background_color': '104A93', 'profile_background_image_url': 'http://abs.twimg.com/images/themes/theme1/bg.png', 'profile_background_image_url_https': 'https://abs.twimg.com/images/themes/theme1/bg.png', 'profile_background_tile': False, 'profile_image_url': 'http://pbs.twimg.com/profile_images/936563586440163328/0CgRXrv2_normal.jpg', 'profile_image_url_https': 'https://pbs.twimg.com/profile_images/936563586440163328/0CgRXrv2_normal.jpg', 'profile_banner_url': 'https://pbs.twimg.com/profile_banners/53324855/1512129109', 'profile_link_color': '0084B4', 'profile_sidebar_border_color': 'FFFFFF', 'profile_sidebar_fill_color': 'DDEEF6', 'profile_text_color': '333333', 'profile_use_background_image': False, 'has_extended_profile': False, 'default_profile': False, 'default_profile_image': False, 'following': False, 'follow_request_sent': False, 'notifications': False, 'translator_type': 'none'}, 'geo': None, 'coordinates': None, 'place': None, 'contributors': None, 'is_quote_status': False, 'retweet_count': 0, 'favorite_count': 0, 'favorited': False, 'retweeted': False, 'possibly_sensitive': False, 'lang': 'en'}, created_at=datetime.datetime(2020, 11, 9, 9, 1, 10), id=1325725104148459520, id_str='1325725104148459520', full_text='Get latest updates on COVID-19 India https://t.co/k0Xz2h1Fo5\\nTotal cases in India: 8553657 | No. of New Cases in India: 45903\\nCheck India Map for New cases...\\n#SmartenAnalytics #COVID19Updates #FightCoronavirus #fightCOVID19 #stayathome #coronavirusindia https://t.co/HzELKvhbro', truncated=False, display_text_range=[0, 254], entities={'hashtags': [{'text': 'SmartenAnalytics', 'indices': [159, 176]}, {'text': 'COVID19Updates', 'indices': [177, 192]}, {'text': 'FightCoronavirus', 'indices': [193, 210]}, {'text': 'fightCOVID19', 'indices': [211, 224]}, {'text': 'stayathome', 'indices': [225, 236]}, {'text': 'coronavirusindia', 'indices': [237, 254]}], 'symbols': [], 'user_mentions': [], 'urls': [{'url': 'https://t.co/k0Xz2h1Fo5', 'expanded_url': 'http://ow.ly/SW7u30qwzET', 'display_url': 'ow.ly/SW7u30qwzET', 'indices': [37, 60]}], 'media': [{'id': 1325725103024431104, 'id_str': '1325725103024431104', 'indices': [255, 278], 'media_url': 'http://pbs.twimg.com/media/EmXr9QuW4AAKHhF.png', 'media_url_https': 'https://pbs.twimg.com/media/EmXr9QuW4AAKHhF.png', 'url': 'https://t.co/HzELKvhbro', 'display_url': 'pic.twitter.com/HzELKvhbro', 'expanded_url': 'https://twitter.com/ElegantJBI/status/1325725104148459520/photo/1', 'type': 'photo', 'sizes': {'large': {'w': 651, 'h': 649, 'resize': 'fit'}, 'medium': {'w': 651, 'h': 649, 'resize': 'fit'}, 'small': {'w': 651, 'h': 649, 'resize': 'fit'}, 'thumb': {'w': 150, 'h': 150, 'resize': 'crop'}}}]}, extended_entities={'media': [{'id': 1325725103024431104, 'id_str': '1325725103024431104', 'indices': [255, 278], 'media_url': 'http://pbs.twimg.com/media/EmXr9QuW4AAKHhF.png', 'media_url_https': 'https://pbs.twimg.com/media/EmXr9QuW4AAKHhF.png', 'url': 'https://t.co/HzELKvhbro', 'display_url': 'pic.twitter.com/HzELKvhbro', 'expanded_url': 'https://twitter.com/ElegantJBI/status/1325725104148459520/photo/1', 'type': 'photo', 'sizes': {'large': {'w': 651, 'h': 649, 'resize': 'fit'}, 'medium': {'w': 651, 'h': 649, 'resize': 'fit'}, 'small': {'w': 651, 'h': 649, 'resize': 'fit'}, 'thumb': {'w': 150, 'h': 150, 'resize': 'crop'}}}]}, metadata={'iso_language_code': 'en', 'result_type': 'recent'}, source='Hootsuite Inc.', source_url='https://www.hootsuite.com', in_reply_to_status_id=None, in_reply_to_status_id_str=None, in_reply_to_user_id=None, in_reply_to_user_id_str=None, in_reply_to_screen_name=None, author=User(_api=<tweepy.api.API object at 0x0000027DB9D291C8>, _json={'id': 53324855, 'id_str': '53324855', 'name': 'ElegantJ BI', 'screen_name': 'ElegantJBI', 'location': 'Ahmedabad, Gujarat, India', 'description': 'ReImagine #BusinessIntelligence with ElegantJ BI - Advanced #DataDiscovery, Managed Memory Computing, Deep Dive, #SocialBI, #MobileBI, #KPI Analytics', 'url': 'https://t.co/vhjNGqBrEk', 'entities': {'url': {'urls': [{'url': 'https://t.co/vhjNGqBrEk', 'expanded_url': 'https://www.elegantjbi.com', 'display_url': 'elegantjbi.com', 'indices': [0, 23]}]}, 'description': {'urls': []}}, 'protected': False, 'followers_count': 1259, 'friends_count': 4451, 'listed_count': 75, 'created_at': 'Fri Jul 03 07:34:21 +0000 2009', 'favourites_count': 1308, 'utc_offset': None, 'time_zone': None, 'geo_enabled': False, 'verified': False, 'statuses_count': 2131, 'lang': None, 'contributors_enabled': False, 'is_translator': False, 'is_translation_enabled': False, 'profile_background_color': '104A93', 'profile_background_image_url': 'http://abs.twimg.com/images/themes/theme1/bg.png', 'profile_background_image_url_https': 'https://abs.twimg.com/images/themes/theme1/bg.png', 'profile_background_tile': False, 'profile_image_url': 'http://pbs.twimg.com/profile_images/936563586440163328/0CgRXrv2_normal.jpg', 'profile_image_url_https': 'https://pbs.twimg.com/profile_images/936563586440163328/0CgRXrv2_normal.jpg', 'profile_banner_url': 'https://pbs.twimg.com/profile_banners/53324855/1512129109', 'profile_link_color': '0084B4', 'profile_sidebar_border_color': 'FFFFFF', 'profile_sidebar_fill_color': 'DDEEF6', 'profile_text_color': '333333', 'profile_use_background_image': False, 'has_extended_profile': False, 'default_profile': False, 'default_profile_image': False, 'following': False, 'follow_request_sent': False, 'notifications': False, 'translator_type': 'none'}, id=53324855, id_str='53324855', name='ElegantJ BI', screen_name='ElegantJBI', location='Ahmedabad, Gujarat, India', description='ReImagine #BusinessIntelligence with ElegantJ BI - Advanced #DataDiscovery, Managed Memory Computing, Deep Dive, #SocialBI, #MobileBI, #KPI Analytics', url='https://t.co/vhjNGqBrEk', entities={'url': {'urls': [{'url': 'https://t.co/vhjNGqBrEk', 'expanded_url': 'https://www.elegantjbi.com', 'display_url': 'elegantjbi.com', 'indices': [0, 23]}]}, 'description': {'urls': []}}, protected=False, followers_count=1259, friends_count=4451, listed_count=75, created_at=datetime.datetime(2009, 7, 3, 7, 34, 21), favourites_count=1308, utc_offset=None, time_zone=None, geo_enabled=False, verified=False, statuses_count=2131, lang=None, contributors_enabled=False, is_translator=False, is_translation_enabled=False, profile_background_color='104A93', profile_background_image_url='http://abs.twimg.com/images/themes/theme1/bg.png', profile_background_image_url_https='https://abs.twimg.com/images/themes/theme1/bg.png', profile_background_tile=False, profile_image_url='http://pbs.twimg.com/profile_images/936563586440163328/0CgRXrv2_normal.jpg', profile_image_url_https='https://pbs.twimg.com/profile_images/936563586440163328/0CgRXrv2_normal.jpg', profile_banner_url='https://pbs.twimg.com/profile_banners/53324855/1512129109', profile_link_color='0084B4', profile_sidebar_border_color='FFFFFF', profile_sidebar_fill_color='DDEEF6', profile_text_color='333333', profile_use_background_image=False, has_extended_profile=False, default_profile=False, default_profile_image=False, following=False, follow_request_sent=False, notifications=False, translator_type='none'), user=User(_api=<tweepy.api.API object at 0x0000027DB9D291C8>, _json={'id': 53324855, 'id_str': '53324855', 'name': 'ElegantJ BI', 'screen_name': 'ElegantJBI', 'location': 'Ahmedabad, Gujarat, India', 'description': 'ReImagine #BusinessIntelligence with ElegantJ BI - Advanced #DataDiscovery, Managed Memory Computing, Deep Dive, #SocialBI, #MobileBI, #KPI Analytics', 'url': 'https://t.co/vhjNGqBrEk', 'entities': {'url': {'urls': [{'url': 'https://t.co/vhjNGqBrEk', 'expanded_url': 'https://www.elegantjbi.com', 'display_url': 'elegantjbi.com', 'indices': [0, 23]}]}, 'description': {'urls': []}}, 'protected': False, 'followers_count': 1259, 'friends_count': 4451, 'listed_count': 75, 'created_at': 'Fri Jul 03 07:34:21 +0000 2009', 'favourites_count': 1308, 'utc_offset': None, 'time_zone': None, 'geo_enabled': False, 'verified': False, 'statuses_count': 2131, 'lang': None, 'contributors_enabled': False, 'is_translator': False, 'is_translation_enabled': False, 'profile_background_color': '104A93', 'profile_background_image_url': 'http://abs.twimg.com/images/themes/theme1/bg.png', 'profile_background_image_url_https': 'https://abs.twimg.com/images/themes/theme1/bg.png', 'profile_background_tile': False, 'profile_image_url': 'http://pbs.twimg.com/profile_images/936563586440163328/0CgRXrv2_normal.jpg', 'profile_image_url_https': 'https://pbs.twimg.com/profile_images/936563586440163328/0CgRXrv2_normal.jpg', 'profile_banner_url': 'https://pbs.twimg.com/profile_banners/53324855/1512129109', 'profile_link_color': '0084B4', 'profile_sidebar_border_color': 'FFFFFF', 'profile_sidebar_fill_color': 'DDEEF6', 'profile_text_color': '333333', 'profile_use_background_image': False, 'has_extended_profile': False, 'default_profile': False, 'default_profile_image': False, 'following': False, 'follow_request_sent': False, 'notifications': False, 'translator_type': 'none'}, id=53324855, id_str='53324855', name='ElegantJ BI', screen_name='ElegantJBI', location='Ahmedabad, Gujarat, India', description='ReImagine #BusinessIntelligence with ElegantJ BI - Advanced #DataDiscovery, Managed Memory Computing, Deep Dive, #SocialBI, #MobileBI, #KPI Analytics', url='https://t.co/vhjNGqBrEk', entities={'url': {'urls': [{'url': 'https://t.co/vhjNGqBrEk', 'expanded_url': 'https://www.elegantjbi.com', 'display_url': 'elegantjbi.com', 'indices': [0, 23]}]}, 'description': {'urls': []}}, protected=False, followers_count=1259, friends_count=4451, listed_count=75, created_at=datetime.datetime(2009, 7, 3, 7, 34, 21), favourites_count=1308, utc_offset=None, time_zone=None, geo_enabled=False, verified=False, statuses_count=2131, lang=None, contributors_enabled=False, is_translator=False, is_translation_enabled=False, profile_background_color='104A93', profile_background_image_url='http://abs.twimg.com/images/themes/theme1/bg.png', profile_background_image_url_https='https://abs.twimg.com/images/themes/theme1/bg.png', profile_background_tile=False, profile_image_url='http://pbs.twimg.com/profile_images/936563586440163328/0CgRXrv2_normal.jpg', profile_image_url_https='https://pbs.twimg.com/profile_images/936563586440163328/0CgRXrv2_normal.jpg', profile_banner_url='https://pbs.twimg.com/profile_banners/53324855/1512129109', profile_link_color='0084B4', profile_sidebar_border_color='FFFFFF', profile_sidebar_fill_color='DDEEF6', profile_text_color='333333', profile_use_background_image=False, has_extended_profile=False, default_profile=False, default_profile_image=False, following=False, follow_request_sent=False, notifications=False, translator_type='none'), geo=None, coordinates=None, place=None, contributors=None, is_quote_status=False, retweet_count=0, favorite_count=0, favorited=False, retweeted=False, possibly_sensitive=False, lang='en') \n",
      "\n",
      ".....................................\n",
      "\n",
      "Status(_api=<tweepy.api.API object at 0x0000027DB9D291C8>, _json={'created_at': 'Mon Nov 09 09:00:00 +0000 2020', 'id': 1325724813302829056, 'id_str': '1325724813302829056', 'full_text': 'COVID 19 cases in India until : 09/11/2020 14:30\\n\\nTotal Cases: 8555109 [+1245]😅\\nActive: 510832🖖🏽\\nRecovered: 7915767 [+107]❤\\nDeaths :126671 [+18]🙏🏼\\nTotal Tests: 118.57M🧪\\n\\nData- @covid19indiaorg\\n#CoronaVirus #COVID19inIndia #India #Bot', 'truncated': False, 'display_text_range': [0, 233], 'entities': {'hashtags': [{'text': 'CoronaVirus', 'indices': [193, 205]}, {'text': 'COVID19inIndia', 'indices': [206, 221]}, {'text': 'India', 'indices': [222, 228]}, {'text': 'Bot', 'indices': [229, 233]}], 'symbols': [], 'user_mentions': [{'screen_name': 'covid19indiaorg', 'name': 'covid19indiaorg', 'id': 1240561169296814080, 'id_str': '1240561169296814080', 'indices': [176, 192]}], 'urls': []}, 'metadata': {'iso_language_code': 'en', 'result_type': 'recent'}, 'source': '<a href=\"https://indiacovid19bot.azurewebsites.net/\" rel=\"nofollow\">BharatCovid19Bot</a>', 'in_reply_to_status_id': None, 'in_reply_to_status_id_str': None, 'in_reply_to_user_id': None, 'in_reply_to_user_id_str': None, 'in_reply_to_screen_name': None, 'user': {'id': 1254115932021993472, 'id_str': '1254115932021993472', 'name': 'Coronavirus Bot 🇮🇳', 'screen_name': 'IndiaCovid19Bot', 'location': '', 'description': \"A bot HOURLY posting India's Covid 19 numbers.\\nRuns from 9am to 11 30pm IST. \\nMade by \\n@SamitShirsat\", 'url': None, 'entities': {'description': {'urls': []}}, 'protected': False, 'followers_count': 115, 'friends_count': 2, 'listed_count': 2, 'created_at': 'Sat Apr 25 18:32:00 +0000 2020', 'favourites_count': 8, 'utc_offset': None, 'time_zone': None, 'geo_enabled': False, 'verified': False, 'statuses_count': 2948, 'lang': None, 'contributors_enabled': False, 'is_translator': False, 'is_translation_enabled': False, 'profile_background_color': 'F5F8FA', 'profile_background_image_url': None, 'profile_background_image_url_https': None, 'profile_background_tile': False, 'profile_image_url': 'http://pbs.twimg.com/profile_images/1254353902364852224/UKUj3u4l_normal.jpg', 'profile_image_url_https': 'https://pbs.twimg.com/profile_images/1254353902364852224/UKUj3u4l_normal.jpg', 'profile_banner_url': 'https://pbs.twimg.com/profile_banners/1254115932021993472/1587896661', 'profile_link_color': '1DA1F2', 'profile_sidebar_border_color': 'C0DEED', 'profile_sidebar_fill_color': 'DDEEF6', 'profile_text_color': '333333', 'profile_use_background_image': True, 'has_extended_profile': False, 'default_profile': True, 'default_profile_image': False, 'following': False, 'follow_request_sent': False, 'notifications': False, 'translator_type': 'none'}, 'geo': None, 'coordinates': None, 'place': None, 'contributors': None, 'is_quote_status': False, 'retweet_count': 0, 'favorite_count': 0, 'favorited': False, 'retweeted': False, 'lang': 'en'}, created_at=datetime.datetime(2020, 11, 9, 9, 0), id=1325724813302829056, id_str='1325724813302829056', full_text='COVID 19 cases in India until : 09/11/2020 14:30\\n\\nTotal Cases: 8555109 [+1245]😅\\nActive: 510832🖖🏽\\nRecovered: 7915767 [+107]❤\\nDeaths :126671 [+18]🙏🏼\\nTotal Tests: 118.57M🧪\\n\\nData- @covid19indiaorg\\n#CoronaVirus #COVID19inIndia #India #Bot', truncated=False, display_text_range=[0, 233], entities={'hashtags': [{'text': 'CoronaVirus', 'indices': [193, 205]}, {'text': 'COVID19inIndia', 'indices': [206, 221]}, {'text': 'India', 'indices': [222, 228]}, {'text': 'Bot', 'indices': [229, 233]}], 'symbols': [], 'user_mentions': [{'screen_name': 'covid19indiaorg', 'name': 'covid19indiaorg', 'id': 1240561169296814080, 'id_str': '1240561169296814080', 'indices': [176, 192]}], 'urls': []}, metadata={'iso_language_code': 'en', 'result_type': 'recent'}, source='BharatCovid19Bot', source_url='https://indiacovid19bot.azurewebsites.net/', in_reply_to_status_id=None, in_reply_to_status_id_str=None, in_reply_to_user_id=None, in_reply_to_user_id_str=None, in_reply_to_screen_name=None, author=User(_api=<tweepy.api.API object at 0x0000027DB9D291C8>, _json={'id': 1254115932021993472, 'id_str': '1254115932021993472', 'name': 'Coronavirus Bot 🇮🇳', 'screen_name': 'IndiaCovid19Bot', 'location': '', 'description': \"A bot HOURLY posting India's Covid 19 numbers.\\nRuns from 9am to 11 30pm IST. \\nMade by \\n@SamitShirsat\", 'url': None, 'entities': {'description': {'urls': []}}, 'protected': False, 'followers_count': 115, 'friends_count': 2, 'listed_count': 2, 'created_at': 'Sat Apr 25 18:32:00 +0000 2020', 'favourites_count': 8, 'utc_offset': None, 'time_zone': None, 'geo_enabled': False, 'verified': False, 'statuses_count': 2948, 'lang': None, 'contributors_enabled': False, 'is_translator': False, 'is_translation_enabled': False, 'profile_background_color': 'F5F8FA', 'profile_background_image_url': None, 'profile_background_image_url_https': None, 'profile_background_tile': False, 'profile_image_url': 'http://pbs.twimg.com/profile_images/1254353902364852224/UKUj3u4l_normal.jpg', 'profile_image_url_https': 'https://pbs.twimg.com/profile_images/1254353902364852224/UKUj3u4l_normal.jpg', 'profile_banner_url': 'https://pbs.twimg.com/profile_banners/1254115932021993472/1587896661', 'profile_link_color': '1DA1F2', 'profile_sidebar_border_color': 'C0DEED', 'profile_sidebar_fill_color': 'DDEEF6', 'profile_text_color': '333333', 'profile_use_background_image': True, 'has_extended_profile': False, 'default_profile': True, 'default_profile_image': False, 'following': False, 'follow_request_sent': False, 'notifications': False, 'translator_type': 'none'}, id=1254115932021993472, id_str='1254115932021993472', name='Coronavirus Bot 🇮🇳', screen_name='IndiaCovid19Bot', location='', description=\"A bot HOURLY posting India's Covid 19 numbers.\\nRuns from 9am to 11 30pm IST. \\nMade by \\n@SamitShirsat\", url=None, entities={'description': {'urls': []}}, protected=False, followers_count=115, friends_count=2, listed_count=2, created_at=datetime.datetime(2020, 4, 25, 18, 32), favourites_count=8, utc_offset=None, time_zone=None, geo_enabled=False, verified=False, statuses_count=2948, lang=None, contributors_enabled=False, is_translator=False, is_translation_enabled=False, profile_background_color='F5F8FA', profile_background_image_url=None, profile_background_image_url_https=None, profile_background_tile=False, profile_image_url='http://pbs.twimg.com/profile_images/1254353902364852224/UKUj3u4l_normal.jpg', profile_image_url_https='https://pbs.twimg.com/profile_images/1254353902364852224/UKUj3u4l_normal.jpg', profile_banner_url='https://pbs.twimg.com/profile_banners/1254115932021993472/1587896661', profile_link_color='1DA1F2', profile_sidebar_border_color='C0DEED', profile_sidebar_fill_color='DDEEF6', profile_text_color='333333', profile_use_background_image=True, has_extended_profile=False, default_profile=True, default_profile_image=False, following=False, follow_request_sent=False, notifications=False, translator_type='none'), user=User(_api=<tweepy.api.API object at 0x0000027DB9D291C8>, _json={'id': 1254115932021993472, 'id_str': '1254115932021993472', 'name': 'Coronavirus Bot 🇮🇳', 'screen_name': 'IndiaCovid19Bot', 'location': '', 'description': \"A bot HOURLY posting India's Covid 19 numbers.\\nRuns from 9am to 11 30pm IST. \\nMade by \\n@SamitShirsat\", 'url': None, 'entities': {'description': {'urls': []}}, 'protected': False, 'followers_count': 115, 'friends_count': 2, 'listed_count': 2, 'created_at': 'Sat Apr 25 18:32:00 +0000 2020', 'favourites_count': 8, 'utc_offset': None, 'time_zone': None, 'geo_enabled': False, 'verified': False, 'statuses_count': 2948, 'lang': None, 'contributors_enabled': False, 'is_translator': False, 'is_translation_enabled': False, 'profile_background_color': 'F5F8FA', 'profile_background_image_url': None, 'profile_background_image_url_https': None, 'profile_background_tile': False, 'profile_image_url': 'http://pbs.twimg.com/profile_images/1254353902364852224/UKUj3u4l_normal.jpg', 'profile_image_url_https': 'https://pbs.twimg.com/profile_images/1254353902364852224/UKUj3u4l_normal.jpg', 'profile_banner_url': 'https://pbs.twimg.com/profile_banners/1254115932021993472/1587896661', 'profile_link_color': '1DA1F2', 'profile_sidebar_border_color': 'C0DEED', 'profile_sidebar_fill_color': 'DDEEF6', 'profile_text_color': '333333', 'profile_use_background_image': True, 'has_extended_profile': False, 'default_profile': True, 'default_profile_image': False, 'following': False, 'follow_request_sent': False, 'notifications': False, 'translator_type': 'none'}, id=1254115932021993472, id_str='1254115932021993472', name='Coronavirus Bot 🇮🇳', screen_name='IndiaCovid19Bot', location='', description=\"A bot HOURLY posting India's Covid 19 numbers.\\nRuns from 9am to 11 30pm IST. \\nMade by \\n@SamitShirsat\", url=None, entities={'description': {'urls': []}}, protected=False, followers_count=115, friends_count=2, listed_count=2, created_at=datetime.datetime(2020, 4, 25, 18, 32), favourites_count=8, utc_offset=None, time_zone=None, geo_enabled=False, verified=False, statuses_count=2948, lang=None, contributors_enabled=False, is_translator=False, is_translation_enabled=False, profile_background_color='F5F8FA', profile_background_image_url=None, profile_background_image_url_https=None, profile_background_tile=False, profile_image_url='http://pbs.twimg.com/profile_images/1254353902364852224/UKUj3u4l_normal.jpg', profile_image_url_https='https://pbs.twimg.com/profile_images/1254353902364852224/UKUj3u4l_normal.jpg', profile_banner_url='https://pbs.twimg.com/profile_banners/1254115932021993472/1587896661', profile_link_color='1DA1F2', profile_sidebar_border_color='C0DEED', profile_sidebar_fill_color='DDEEF6', profile_text_color='333333', profile_use_background_image=True, has_extended_profile=False, default_profile=True, default_profile_image=False, following=False, follow_request_sent=False, notifications=False, translator_type='none'), geo=None, coordinates=None, place=None, contributors=None, is_quote_status=False, retweet_count=0, favorite_count=0, favorited=False, retweeted=False, lang='en') \n",
      "\n",
      ".....................................\n",
      "\n",
      "Status(_api=<tweepy.api.API object at 0x0000027DB9D291C8>, _json={'created_at': 'Mon Nov 09 08:55:03 +0000 2020', 'id': 1325723565912592387, 'id_str': '1325723565912592387', 'full_text': 'Delhi overtakes Maharashtra, Kerala as highest contributor to new Covid-19 cases https://t.co/H43ZrDS7Fg', 'truncated': False, 'display_text_range': [0, 104], 'entities': {'hashtags': [], 'symbols': [], 'user_mentions': [], 'urls': [{'url': 'https://t.co/H43ZrDS7Fg', 'expanded_url': 'http://toi.in/uC1nMZ66', 'display_url': 'toi.in/uC1nMZ66', 'indices': [81, 104]}]}, 'metadata': {'iso_language_code': 'en', 'result_type': 'recent'}, 'source': '<a href=\"http://www.toi.in\" rel=\"nofollow\">cmssocialservice</a>', 'in_reply_to_status_id': None, 'in_reply_to_status_id_str': None, 'in_reply_to_user_id': None, 'in_reply_to_user_id_str': None, 'in_reply_to_screen_name': None, 'user': {'id': 29958928, 'id_str': '29958928', 'name': 'TOI India', 'screen_name': 'TOIIndiaNews', 'location': 'New Delhi, India', 'description': 'Latest news from all over the country brought to by India’s No.1 digital news destination https://t.co/VSKi1mkZBr', 'url': 'https://t.co/QFj5DYXovt', 'entities': {'url': {'urls': [{'url': 'https://t.co/QFj5DYXovt', 'expanded_url': 'http://timesofindia.indiatimes.com/india', 'display_url': 'timesofindia.indiatimes.com/india', 'indices': [0, 23]}]}, 'description': {'urls': [{'url': 'https://t.co/VSKi1mkZBr', 'expanded_url': 'http://timesofindia.com', 'display_url': 'timesofindia.com', 'indices': [90, 113]}]}}, 'protected': False, 'followers_count': 1632603, 'friends_count': 22, 'listed_count': 2378, 'created_at': 'Thu Apr 09 10:36:52 +0000 2009', 'favourites_count': 3, 'utc_offset': None, 'time_zone': None, 'geo_enabled': False, 'verified': True, 'statuses_count': 264132, 'lang': None, 'contributors_enabled': False, 'is_translator': False, 'is_translation_enabled': False, 'profile_background_color': 'C0DEED', 'profile_background_image_url': 'http://abs.twimg.com/images/themes/theme1/bg.png', 'profile_background_image_url_https': 'https://abs.twimg.com/images/themes/theme1/bg.png', 'profile_background_tile': False, 'profile_image_url': 'http://pbs.twimg.com/profile_images/1282407636/icon_512_normal.png', 'profile_image_url_https': 'https://pbs.twimg.com/profile_images/1282407636/icon_512_normal.png', 'profile_banner_url': 'https://pbs.twimg.com/profile_banners/29958928/1401007898', 'profile_link_color': '0084B4', 'profile_sidebar_border_color': 'C0DEED', 'profile_sidebar_fill_color': 'DDEEF6', 'profile_text_color': '333333', 'profile_use_background_image': True, 'has_extended_profile': False, 'default_profile': False, 'default_profile_image': False, 'following': False, 'follow_request_sent': False, 'notifications': False, 'translator_type': 'none'}, 'geo': None, 'coordinates': None, 'place': None, 'contributors': None, 'is_quote_status': False, 'retweet_count': 2, 'favorite_count': 15, 'favorited': False, 'retweeted': False, 'possibly_sensitive': False, 'lang': 'en'}, created_at=datetime.datetime(2020, 11, 9, 8, 55, 3), id=1325723565912592387, id_str='1325723565912592387', full_text='Delhi overtakes Maharashtra, Kerala as highest contributor to new Covid-19 cases https://t.co/H43ZrDS7Fg', truncated=False, display_text_range=[0, 104], entities={'hashtags': [], 'symbols': [], 'user_mentions': [], 'urls': [{'url': 'https://t.co/H43ZrDS7Fg', 'expanded_url': 'http://toi.in/uC1nMZ66', 'display_url': 'toi.in/uC1nMZ66', 'indices': [81, 104]}]}, metadata={'iso_language_code': 'en', 'result_type': 'recent'}, source='cmssocialservice', source_url='http://www.toi.in', in_reply_to_status_id=None, in_reply_to_status_id_str=None, in_reply_to_user_id=None, in_reply_to_user_id_str=None, in_reply_to_screen_name=None, author=User(_api=<tweepy.api.API object at 0x0000027DB9D291C8>, _json={'id': 29958928, 'id_str': '29958928', 'name': 'TOI India', 'screen_name': 'TOIIndiaNews', 'location': 'New Delhi, India', 'description': 'Latest news from all over the country brought to by India’s No.1 digital news destination https://t.co/VSKi1mkZBr', 'url': 'https://t.co/QFj5DYXovt', 'entities': {'url': {'urls': [{'url': 'https://t.co/QFj5DYXovt', 'expanded_url': 'http://timesofindia.indiatimes.com/india', 'display_url': 'timesofindia.indiatimes.com/india', 'indices': [0, 23]}]}, 'description': {'urls': [{'url': 'https://t.co/VSKi1mkZBr', 'expanded_url': 'http://timesofindia.com', 'display_url': 'timesofindia.com', 'indices': [90, 113]}]}}, 'protected': False, 'followers_count': 1632603, 'friends_count': 22, 'listed_count': 2378, 'created_at': 'Thu Apr 09 10:36:52 +0000 2009', 'favourites_count': 3, 'utc_offset': None, 'time_zone': None, 'geo_enabled': False, 'verified': True, 'statuses_count': 264132, 'lang': None, 'contributors_enabled': False, 'is_translator': False, 'is_translation_enabled': False, 'profile_background_color': 'C0DEED', 'profile_background_image_url': 'http://abs.twimg.com/images/themes/theme1/bg.png', 'profile_background_image_url_https': 'https://abs.twimg.com/images/themes/theme1/bg.png', 'profile_background_tile': False, 'profile_image_url': 'http://pbs.twimg.com/profile_images/1282407636/icon_512_normal.png', 'profile_image_url_https': 'https://pbs.twimg.com/profile_images/1282407636/icon_512_normal.png', 'profile_banner_url': 'https://pbs.twimg.com/profile_banners/29958928/1401007898', 'profile_link_color': '0084B4', 'profile_sidebar_border_color': 'C0DEED', 'profile_sidebar_fill_color': 'DDEEF6', 'profile_text_color': '333333', 'profile_use_background_image': True, 'has_extended_profile': False, 'default_profile': False, 'default_profile_image': False, 'following': False, 'follow_request_sent': False, 'notifications': False, 'translator_type': 'none'}, id=29958928, id_str='29958928', name='TOI India', screen_name='TOIIndiaNews', location='New Delhi, India', description='Latest news from all over the country brought to by India’s No.1 digital news destination https://t.co/VSKi1mkZBr', url='https://t.co/QFj5DYXovt', entities={'url': {'urls': [{'url': 'https://t.co/QFj5DYXovt', 'expanded_url': 'http://timesofindia.indiatimes.com/india', 'display_url': 'timesofindia.indiatimes.com/india', 'indices': [0, 23]}]}, 'description': {'urls': [{'url': 'https://t.co/VSKi1mkZBr', 'expanded_url': 'http://timesofindia.com', 'display_url': 'timesofindia.com', 'indices': [90, 113]}]}}, protected=False, followers_count=1632603, friends_count=22, listed_count=2378, created_at=datetime.datetime(2009, 4, 9, 10, 36, 52), favourites_count=3, utc_offset=None, time_zone=None, geo_enabled=False, verified=True, statuses_count=264132, lang=None, contributors_enabled=False, is_translator=False, is_translation_enabled=False, profile_background_color='C0DEED', profile_background_image_url='http://abs.twimg.com/images/themes/theme1/bg.png', profile_background_image_url_https='https://abs.twimg.com/images/themes/theme1/bg.png', profile_background_tile=False, profile_image_url='http://pbs.twimg.com/profile_images/1282407636/icon_512_normal.png', profile_image_url_https='https://pbs.twimg.com/profile_images/1282407636/icon_512_normal.png', profile_banner_url='https://pbs.twimg.com/profile_banners/29958928/1401007898', profile_link_color='0084B4', profile_sidebar_border_color='C0DEED', profile_sidebar_fill_color='DDEEF6', profile_text_color='333333', profile_use_background_image=True, has_extended_profile=False, default_profile=False, default_profile_image=False, following=False, follow_request_sent=False, notifications=False, translator_type='none'), user=User(_api=<tweepy.api.API object at 0x0000027DB9D291C8>, _json={'id': 29958928, 'id_str': '29958928', 'name': 'TOI India', 'screen_name': 'TOIIndiaNews', 'location': 'New Delhi, India', 'description': 'Latest news from all over the country brought to by India’s No.1 digital news destination https://t.co/VSKi1mkZBr', 'url': 'https://t.co/QFj5DYXovt', 'entities': {'url': {'urls': [{'url': 'https://t.co/QFj5DYXovt', 'expanded_url': 'http://timesofindia.indiatimes.com/india', 'display_url': 'timesofindia.indiatimes.com/india', 'indices': [0, 23]}]}, 'description': {'urls': [{'url': 'https://t.co/VSKi1mkZBr', 'expanded_url': 'http://timesofindia.com', 'display_url': 'timesofindia.com', 'indices': [90, 113]}]}}, 'protected': False, 'followers_count': 1632603, 'friends_count': 22, 'listed_count': 2378, 'created_at': 'Thu Apr 09 10:36:52 +0000 2009', 'favourites_count': 3, 'utc_offset': None, 'time_zone': None, 'geo_enabled': False, 'verified': True, 'statuses_count': 264132, 'lang': None, 'contributors_enabled': False, 'is_translator': False, 'is_translation_enabled': False, 'profile_background_color': 'C0DEED', 'profile_background_image_url': 'http://abs.twimg.com/images/themes/theme1/bg.png', 'profile_background_image_url_https': 'https://abs.twimg.com/images/themes/theme1/bg.png', 'profile_background_tile': False, 'profile_image_url': 'http://pbs.twimg.com/profile_images/1282407636/icon_512_normal.png', 'profile_image_url_https': 'https://pbs.twimg.com/profile_images/1282407636/icon_512_normal.png', 'profile_banner_url': 'https://pbs.twimg.com/profile_banners/29958928/1401007898', 'profile_link_color': '0084B4', 'profile_sidebar_border_color': 'C0DEED', 'profile_sidebar_fill_color': 'DDEEF6', 'profile_text_color': '333333', 'profile_use_background_image': True, 'has_extended_profile': False, 'default_profile': False, 'default_profile_image': False, 'following': False, 'follow_request_sent': False, 'notifications': False, 'translator_type': 'none'}, id=29958928, id_str='29958928', name='TOI India', screen_name='TOIIndiaNews', location='New Delhi, India', description='Latest news from all over the country brought to by India’s No.1 digital news destination https://t.co/VSKi1mkZBr', url='https://t.co/QFj5DYXovt', entities={'url': {'urls': [{'url': 'https://t.co/QFj5DYXovt', 'expanded_url': 'http://timesofindia.indiatimes.com/india', 'display_url': 'timesofindia.indiatimes.com/india', 'indices': [0, 23]}]}, 'description': {'urls': [{'url': 'https://t.co/VSKi1mkZBr', 'expanded_url': 'http://timesofindia.com', 'display_url': 'timesofindia.com', 'indices': [90, 113]}]}}, protected=False, followers_count=1632603, friends_count=22, listed_count=2378, created_at=datetime.datetime(2009, 4, 9, 10, 36, 52), favourites_count=3, utc_offset=None, time_zone=None, geo_enabled=False, verified=True, statuses_count=264132, lang=None, contributors_enabled=False, is_translator=False, is_translation_enabled=False, profile_background_color='C0DEED', profile_background_image_url='http://abs.twimg.com/images/themes/theme1/bg.png', profile_background_image_url_https='https://abs.twimg.com/images/themes/theme1/bg.png', profile_background_tile=False, profile_image_url='http://pbs.twimg.com/profile_images/1282407636/icon_512_normal.png', profile_image_url_https='https://pbs.twimg.com/profile_images/1282407636/icon_512_normal.png', profile_banner_url='https://pbs.twimg.com/profile_banners/29958928/1401007898', profile_link_color='0084B4', profile_sidebar_border_color='C0DEED', profile_sidebar_fill_color='DDEEF6', profile_text_color='333333', profile_use_background_image=True, has_extended_profile=False, default_profile=False, default_profile_image=False, following=False, follow_request_sent=False, notifications=False, translator_type='none'), geo=None, coordinates=None, place=None, contributors=None, is_quote_status=False, retweet_count=2, favorite_count=15, favorited=False, retweeted=False, possibly_sensitive=False, lang='en') \n",
      "\n",
      ".....................................\n",
      "\n",
      "Status(_api=<tweepy.api.API object at 0x0000027DB9D291C8>, _json={'created_at': 'Mon Nov 09 08:48:45 +0000 2020', 'id': 1325721979547246594, 'id_str': '1325721979547246594', 'full_text': 'Over 79 lakh people have recovered from the disease in India so far with a recovery rate of 92.49 per cent — the highest in the world. \\n https://t.co/gjbNZBykMf', 'truncated': False, 'display_text_range': [0, 160], 'entities': {'hashtags': [], 'symbols': [], 'user_mentions': [], 'urls': [{'url': 'https://t.co/gjbNZBykMf', 'expanded_url': 'https://www.deccanherald.com/national/coronavirus-news-live-updates-india-world-Covid-19-vaccine-bengaluru-karnataka-mumbai-maharashtra-chennai-tamil-nadu-delhi-kerala-uttar-pradesh-west-bengal-kolkata-cases-deaths-recoveries-health-ministry-Oxford-913209.html', 'display_url': 'deccanherald.com/national/coron…', 'indices': [137, 160]}]}, 'metadata': {'iso_language_code': 'en', 'result_type': 'recent'}, 'source': '<a href=\"https://www.hootsuite.com\" rel=\"nofollow\">Hootsuite Inc.</a>', 'in_reply_to_status_id': None, 'in_reply_to_status_id_str': None, 'in_reply_to_user_id': None, 'in_reply_to_user_id_str': None, 'in_reply_to_screen_name': None, 'user': {'id': 268201193, 'id_str': '268201193', 'name': 'Deccan Herald', 'screen_name': 'DeccanHerald', 'location': 'India', 'description': \"Bangalore & Karnataka's leading news daily for over 72 years. Authentic, definitive, and fresh: like your morning filter coffee. Got a story? Tweet or DM us.\", 'url': 'http://t.co/5cWrpTJMmC', 'entities': {'url': {'urls': [{'url': 'http://t.co/5cWrpTJMmC', 'expanded_url': 'http://www.deccanherald.com', 'display_url': 'deccanherald.com', 'indices': [0, 22]}]}, 'description': {'urls': []}}, 'protected': False, 'followers_count': 60995, 'friends_count': 746, 'listed_count': 597, 'created_at': 'Fri Mar 18 10:02:16 +0000 2011', 'favourites_count': 1231, 'utc_offset': None, 'time_zone': None, 'geo_enabled': True, 'verified': True, 'statuses_count': 246314, 'lang': None, 'contributors_enabled': False, 'is_translator': False, 'is_translation_enabled': False, 'profile_background_color': '000000', 'profile_background_image_url': 'http://abs.twimg.com/images/themes/theme9/bg.gif', 'profile_background_image_url_https': 'https://abs.twimg.com/images/themes/theme9/bg.gif', 'profile_background_tile': False, 'profile_image_url': 'http://pbs.twimg.com/profile_images/1275004605810634752/EurSOGXS_normal.jpg', 'profile_image_url_https': 'https://pbs.twimg.com/profile_images/1275004605810634752/EurSOGXS_normal.jpg', 'profile_banner_url': 'https://pbs.twimg.com/profile_banners/268201193/1604888840', 'profile_link_color': '1B95E0', 'profile_sidebar_border_color': '000000', 'profile_sidebar_fill_color': '000000', 'profile_text_color': '000000', 'profile_use_background_image': False, 'has_extended_profile': True, 'default_profile': False, 'default_profile_image': False, 'following': False, 'follow_request_sent': False, 'notifications': False, 'translator_type': 'none'}, 'geo': None, 'coordinates': None, 'place': None, 'contributors': None, 'is_quote_status': False, 'retweet_count': 0, 'favorite_count': 1, 'favorited': False, 'retweeted': False, 'possibly_sensitive': False, 'lang': 'en'}, created_at=datetime.datetime(2020, 11, 9, 8, 48, 45), id=1325721979547246594, id_str='1325721979547246594', full_text='Over 79 lakh people have recovered from the disease in India so far with a recovery rate of 92.49 per cent — the highest in the world. \\n https://t.co/gjbNZBykMf', truncated=False, display_text_range=[0, 160], entities={'hashtags': [], 'symbols': [], 'user_mentions': [], 'urls': [{'url': 'https://t.co/gjbNZBykMf', 'expanded_url': 'https://www.deccanherald.com/national/coronavirus-news-live-updates-india-world-Covid-19-vaccine-bengaluru-karnataka-mumbai-maharashtra-chennai-tamil-nadu-delhi-kerala-uttar-pradesh-west-bengal-kolkata-cases-deaths-recoveries-health-ministry-Oxford-913209.html', 'display_url': 'deccanherald.com/national/coron…', 'indices': [137, 160]}]}, metadata={'iso_language_code': 'en', 'result_type': 'recent'}, source='Hootsuite Inc.', source_url='https://www.hootsuite.com', in_reply_to_status_id=None, in_reply_to_status_id_str=None, in_reply_to_user_id=None, in_reply_to_user_id_str=None, in_reply_to_screen_name=None, author=User(_api=<tweepy.api.API object at 0x0000027DB9D291C8>, _json={'id': 268201193, 'id_str': '268201193', 'name': 'Deccan Herald', 'screen_name': 'DeccanHerald', 'location': 'India', 'description': \"Bangalore & Karnataka's leading news daily for over 72 years. Authentic, definitive, and fresh: like your morning filter coffee. Got a story? Tweet or DM us.\", 'url': 'http://t.co/5cWrpTJMmC', 'entities': {'url': {'urls': [{'url': 'http://t.co/5cWrpTJMmC', 'expanded_url': 'http://www.deccanherald.com', 'display_url': 'deccanherald.com', 'indices': [0, 22]}]}, 'description': {'urls': []}}, 'protected': False, 'followers_count': 60995, 'friends_count': 746, 'listed_count': 597, 'created_at': 'Fri Mar 18 10:02:16 +0000 2011', 'favourites_count': 1231, 'utc_offset': None, 'time_zone': None, 'geo_enabled': True, 'verified': True, 'statuses_count': 246314, 'lang': None, 'contributors_enabled': False, 'is_translator': False, 'is_translation_enabled': False, 'profile_background_color': '000000', 'profile_background_image_url': 'http://abs.twimg.com/images/themes/theme9/bg.gif', 'profile_background_image_url_https': 'https://abs.twimg.com/images/themes/theme9/bg.gif', 'profile_background_tile': False, 'profile_image_url': 'http://pbs.twimg.com/profile_images/1275004605810634752/EurSOGXS_normal.jpg', 'profile_image_url_https': 'https://pbs.twimg.com/profile_images/1275004605810634752/EurSOGXS_normal.jpg', 'profile_banner_url': 'https://pbs.twimg.com/profile_banners/268201193/1604888840', 'profile_link_color': '1B95E0', 'profile_sidebar_border_color': '000000', 'profile_sidebar_fill_color': '000000', 'profile_text_color': '000000', 'profile_use_background_image': False, 'has_extended_profile': True, 'default_profile': False, 'default_profile_image': False, 'following': False, 'follow_request_sent': False, 'notifications': False, 'translator_type': 'none'}, id=268201193, id_str='268201193', name='Deccan Herald', screen_name='DeccanHerald', location='India', description=\"Bangalore & Karnataka's leading news daily for over 72 years. Authentic, definitive, and fresh: like your morning filter coffee. Got a story? Tweet or DM us.\", url='http://t.co/5cWrpTJMmC', entities={'url': {'urls': [{'url': 'http://t.co/5cWrpTJMmC', 'expanded_url': 'http://www.deccanherald.com', 'display_url': 'deccanherald.com', 'indices': [0, 22]}]}, 'description': {'urls': []}}, protected=False, followers_count=60995, friends_count=746, listed_count=597, created_at=datetime.datetime(2011, 3, 18, 10, 2, 16), favourites_count=1231, utc_offset=None, time_zone=None, geo_enabled=True, verified=True, statuses_count=246314, lang=None, contributors_enabled=False, is_translator=False, is_translation_enabled=False, profile_background_color='000000', profile_background_image_url='http://abs.twimg.com/images/themes/theme9/bg.gif', profile_background_image_url_https='https://abs.twimg.com/images/themes/theme9/bg.gif', profile_background_tile=False, profile_image_url='http://pbs.twimg.com/profile_images/1275004605810634752/EurSOGXS_normal.jpg', profile_image_url_https='https://pbs.twimg.com/profile_images/1275004605810634752/EurSOGXS_normal.jpg', profile_banner_url='https://pbs.twimg.com/profile_banners/268201193/1604888840', profile_link_color='1B95E0', profile_sidebar_border_color='000000', profile_sidebar_fill_color='000000', profile_text_color='000000', profile_use_background_image=False, has_extended_profile=True, default_profile=False, default_profile_image=False, following=False, follow_request_sent=False, notifications=False, translator_type='none'), user=User(_api=<tweepy.api.API object at 0x0000027DB9D291C8>, _json={'id': 268201193, 'id_str': '268201193', 'name': 'Deccan Herald', 'screen_name': 'DeccanHerald', 'location': 'India', 'description': \"Bangalore & Karnataka's leading news daily for over 72 years. Authentic, definitive, and fresh: like your morning filter coffee. Got a story? Tweet or DM us.\", 'url': 'http://t.co/5cWrpTJMmC', 'entities': {'url': {'urls': [{'url': 'http://t.co/5cWrpTJMmC', 'expanded_url': 'http://www.deccanherald.com', 'display_url': 'deccanherald.com', 'indices': [0, 22]}]}, 'description': {'urls': []}}, 'protected': False, 'followers_count': 60995, 'friends_count': 746, 'listed_count': 597, 'created_at': 'Fri Mar 18 10:02:16 +0000 2011', 'favourites_count': 1231, 'utc_offset': None, 'time_zone': None, 'geo_enabled': True, 'verified': True, 'statuses_count': 246314, 'lang': None, 'contributors_enabled': False, 'is_translator': False, 'is_translation_enabled': False, 'profile_background_color': '000000', 'profile_background_image_url': 'http://abs.twimg.com/images/themes/theme9/bg.gif', 'profile_background_image_url_https': 'https://abs.twimg.com/images/themes/theme9/bg.gif', 'profile_background_tile': False, 'profile_image_url': 'http://pbs.twimg.com/profile_images/1275004605810634752/EurSOGXS_normal.jpg', 'profile_image_url_https': 'https://pbs.twimg.com/profile_images/1275004605810634752/EurSOGXS_normal.jpg', 'profile_banner_url': 'https://pbs.twimg.com/profile_banners/268201193/1604888840', 'profile_link_color': '1B95E0', 'profile_sidebar_border_color': '000000', 'profile_sidebar_fill_color': '000000', 'profile_text_color': '000000', 'profile_use_background_image': False, 'has_extended_profile': True, 'default_profile': False, 'default_profile_image': False, 'following': False, 'follow_request_sent': False, 'notifications': False, 'translator_type': 'none'}, id=268201193, id_str='268201193', name='Deccan Herald', screen_name='DeccanHerald', location='India', description=\"Bangalore & Karnataka's leading news daily for over 72 years. Authentic, definitive, and fresh: like your morning filter coffee. Got a story? Tweet or DM us.\", url='http://t.co/5cWrpTJMmC', entities={'url': {'urls': [{'url': 'http://t.co/5cWrpTJMmC', 'expanded_url': 'http://www.deccanherald.com', 'display_url': 'deccanherald.com', 'indices': [0, 22]}]}, 'description': {'urls': []}}, protected=False, followers_count=60995, friends_count=746, listed_count=597, created_at=datetime.datetime(2011, 3, 18, 10, 2, 16), favourites_count=1231, utc_offset=None, time_zone=None, geo_enabled=True, verified=True, statuses_count=246314, lang=None, contributors_enabled=False, is_translator=False, is_translation_enabled=False, profile_background_color='000000', profile_background_image_url='http://abs.twimg.com/images/themes/theme9/bg.gif', profile_background_image_url_https='https://abs.twimg.com/images/themes/theme9/bg.gif', profile_background_tile=False, profile_image_url='http://pbs.twimg.com/profile_images/1275004605810634752/EurSOGXS_normal.jpg', profile_image_url_https='https://pbs.twimg.com/profile_images/1275004605810634752/EurSOGXS_normal.jpg', profile_banner_url='https://pbs.twimg.com/profile_banners/268201193/1604888840', profile_link_color='1B95E0', profile_sidebar_border_color='000000', profile_sidebar_fill_color='000000', profile_text_color='000000', profile_use_background_image=False, has_extended_profile=True, default_profile=False, default_profile_image=False, following=False, follow_request_sent=False, notifications=False, translator_type='none'), geo=None, coordinates=None, place=None, contributors=None, is_quote_status=False, retweet_count=0, favorite_count=1, favorited=False, retweeted=False, possibly_sensitive=False, lang='en') \n",
      "\n",
      ".....................................\n",
      "\n",
      "Status(_api=<tweepy.api.API object at 0x0000027DB9D291C8>, _json={'created_at': 'Mon Nov 09 08:48:21 +0000 2020', 'id': 1325721881794781185, 'id_str': '1325721881794781185', 'full_text': 'Coronavirus India LIVE Updates: 50,210 New Covid-19 Cases In India, 83.64 Lakh Total Cases So Far https://t.co/cwlzmyr4UP https://t.co/aBG4w6Peem', 'truncated': False, 'display_text_range': [0, 121], 'entities': {'hashtags': [], 'symbols': [], 'user_mentions': [], 'urls': [{'url': 'https://t.co/cwlzmyr4UP', 'expanded_url': 'https://covid19globalcases.com/coronavirus-india-live-updates-50210-new-covid-19-cases-in-india-83-64-lakh-total-cases-so-far/', 'display_url': 'covid19globalcases.com/coronavirus-in…', 'indices': [98, 121]}], 'media': [{'id': 1325721880175792129, 'id_str': '1325721880175792129', 'indices': [122, 145], 'media_url': 'http://pbs.twimg.com/media/EmXpBqrXUAEe_Ou.jpg', 'media_url_https': 'https://pbs.twimg.com/media/EmXpBqrXUAEe_Ou.jpg', 'url': 'https://t.co/aBG4w6Peem', 'display_url': 'pic.twitter.com/aBG4w6Peem', 'expanded_url': 'https://twitter.com/COVID19LiveNow/status/1325721881794781185/photo/1', 'type': 'photo', 'sizes': {'thumb': {'w': 150, 'h': 150, 'resize': 'crop'}, 'medium': {'w': 650, 'h': 400, 'resize': 'fit'}, 'large': {'w': 650, 'h': 400, 'resize': 'fit'}, 'small': {'w': 650, 'h': 400, 'resize': 'fit'}}}]}, 'extended_entities': {'media': [{'id': 1325721880175792129, 'id_str': '1325721880175792129', 'indices': [122, 145], 'media_url': 'http://pbs.twimg.com/media/EmXpBqrXUAEe_Ou.jpg', 'media_url_https': 'https://pbs.twimg.com/media/EmXpBqrXUAEe_Ou.jpg', 'url': 'https://t.co/aBG4w6Peem', 'display_url': 'pic.twitter.com/aBG4w6Peem', 'expanded_url': 'https://twitter.com/COVID19LiveNow/status/1325721881794781185/photo/1', 'type': 'photo', 'sizes': {'thumb': {'w': 150, 'h': 150, 'resize': 'crop'}, 'medium': {'w': 650, 'h': 400, 'resize': 'fit'}, 'large': {'w': 650, 'h': 400, 'resize': 'fit'}, 'small': {'w': 650, 'h': 400, 'resize': 'fit'}}}]}, 'metadata': {'iso_language_code': 'en', 'result_type': 'recent'}, 'source': '<a href=\"https://covid19globalcases.com/\" rel=\"nofollow\">COVID-19 Global Cases</a>', 'in_reply_to_status_id': None, 'in_reply_to_status_id_str': None, 'in_reply_to_user_id': None, 'in_reply_to_user_id_str': None, 'in_reply_to_screen_name': None, 'user': {'id': 1238215679162998784, 'id_str': '1238215679162998784', 'name': 'COVID-19 Global Cases', 'screen_name': 'COVID19LiveNow', 'location': '', 'description': 'Coronavirus COVID-19 Global Cases - Live Updates', 'url': 'https://t.co/n1ETrya5dt', 'entities': {'url': {'urls': [{'url': 'https://t.co/n1ETrya5dt', 'expanded_url': 'http://covid19globalcases.com', 'display_url': 'covid19globalcases.com', 'indices': [0, 23]}]}, 'description': {'urls': []}}, 'protected': False, 'followers_count': 59, 'friends_count': 209, 'listed_count': 2, 'created_at': 'Thu Mar 12 21:30:08 +0000 2020', 'favourites_count': 0, 'utc_offset': None, 'time_zone': None, 'geo_enabled': False, 'verified': False, 'statuses_count': 9406, 'lang': None, 'contributors_enabled': False, 'is_translator': False, 'is_translation_enabled': False, 'profile_background_color': 'F5F8FA', 'profile_background_image_url': None, 'profile_background_image_url_https': None, 'profile_background_tile': False, 'profile_image_url': 'http://pbs.twimg.com/profile_images/1238215817612812288/kDt1LH11_normal.jpg', 'profile_image_url_https': 'https://pbs.twimg.com/profile_images/1238215817612812288/kDt1LH11_normal.jpg', 'profile_banner_url': 'https://pbs.twimg.com/profile_banners/1238215679162998784/1584049157', 'profile_link_color': '1DA1F2', 'profile_sidebar_border_color': 'C0DEED', 'profile_sidebar_fill_color': 'DDEEF6', 'profile_text_color': '333333', 'profile_use_background_image': True, 'has_extended_profile': False, 'default_profile': True, 'default_profile_image': False, 'following': False, 'follow_request_sent': False, 'notifications': False, 'translator_type': 'none'}, 'geo': None, 'coordinates': None, 'place': None, 'contributors': None, 'is_quote_status': False, 'retweet_count': 0, 'favorite_count': 0, 'favorited': False, 'retweeted': False, 'possibly_sensitive': False, 'lang': 'en'}, created_at=datetime.datetime(2020, 11, 9, 8, 48, 21), id=1325721881794781185, id_str='1325721881794781185', full_text='Coronavirus India LIVE Updates: 50,210 New Covid-19 Cases In India, 83.64 Lakh Total Cases So Far https://t.co/cwlzmyr4UP https://t.co/aBG4w6Peem', truncated=False, display_text_range=[0, 121], entities={'hashtags': [], 'symbols': [], 'user_mentions': [], 'urls': [{'url': 'https://t.co/cwlzmyr4UP', 'expanded_url': 'https://covid19globalcases.com/coronavirus-india-live-updates-50210-new-covid-19-cases-in-india-83-64-lakh-total-cases-so-far/', 'display_url': 'covid19globalcases.com/coronavirus-in…', 'indices': [98, 121]}], 'media': [{'id': 1325721880175792129, 'id_str': '1325721880175792129', 'indices': [122, 145], 'media_url': 'http://pbs.twimg.com/media/EmXpBqrXUAEe_Ou.jpg', 'media_url_https': 'https://pbs.twimg.com/media/EmXpBqrXUAEe_Ou.jpg', 'url': 'https://t.co/aBG4w6Peem', 'display_url': 'pic.twitter.com/aBG4w6Peem', 'expanded_url': 'https://twitter.com/COVID19LiveNow/status/1325721881794781185/photo/1', 'type': 'photo', 'sizes': {'thumb': {'w': 150, 'h': 150, 'resize': 'crop'}, 'medium': {'w': 650, 'h': 400, 'resize': 'fit'}, 'large': {'w': 650, 'h': 400, 'resize': 'fit'}, 'small': {'w': 650, 'h': 400, 'resize': 'fit'}}}]}, extended_entities={'media': [{'id': 1325721880175792129, 'id_str': '1325721880175792129', 'indices': [122, 145], 'media_url': 'http://pbs.twimg.com/media/EmXpBqrXUAEe_Ou.jpg', 'media_url_https': 'https://pbs.twimg.com/media/EmXpBqrXUAEe_Ou.jpg', 'url': 'https://t.co/aBG4w6Peem', 'display_url': 'pic.twitter.com/aBG4w6Peem', 'expanded_url': 'https://twitter.com/COVID19LiveNow/status/1325721881794781185/photo/1', 'type': 'photo', 'sizes': {'thumb': {'w': 150, 'h': 150, 'resize': 'crop'}, 'medium': {'w': 650, 'h': 400, 'resize': 'fit'}, 'large': {'w': 650, 'h': 400, 'resize': 'fit'}, 'small': {'w': 650, 'h': 400, 'resize': 'fit'}}}]}, metadata={'iso_language_code': 'en', 'result_type': 'recent'}, source='COVID-19 Global Cases', source_url='https://covid19globalcases.com/', in_reply_to_status_id=None, in_reply_to_status_id_str=None, in_reply_to_user_id=None, in_reply_to_user_id_str=None, in_reply_to_screen_name=None, author=User(_api=<tweepy.api.API object at 0x0000027DB9D291C8>, _json={'id': 1238215679162998784, 'id_str': '1238215679162998784', 'name': 'COVID-19 Global Cases', 'screen_name': 'COVID19LiveNow', 'location': '', 'description': 'Coronavirus COVID-19 Global Cases - Live Updates', 'url': 'https://t.co/n1ETrya5dt', 'entities': {'url': {'urls': [{'url': 'https://t.co/n1ETrya5dt', 'expanded_url': 'http://covid19globalcases.com', 'display_url': 'covid19globalcases.com', 'indices': [0, 23]}]}, 'description': {'urls': []}}, 'protected': False, 'followers_count': 59, 'friends_count': 209, 'listed_count': 2, 'created_at': 'Thu Mar 12 21:30:08 +0000 2020', 'favourites_count': 0, 'utc_offset': None, 'time_zone': None, 'geo_enabled': False, 'verified': False, 'statuses_count': 9406, 'lang': None, 'contributors_enabled': False, 'is_translator': False, 'is_translation_enabled': False, 'profile_background_color': 'F5F8FA', 'profile_background_image_url': None, 'profile_background_image_url_https': None, 'profile_background_tile': False, 'profile_image_url': 'http://pbs.twimg.com/profile_images/1238215817612812288/kDt1LH11_normal.jpg', 'profile_image_url_https': 'https://pbs.twimg.com/profile_images/1238215817612812288/kDt1LH11_normal.jpg', 'profile_banner_url': 'https://pbs.twimg.com/profile_banners/1238215679162998784/1584049157', 'profile_link_color': '1DA1F2', 'profile_sidebar_border_color': 'C0DEED', 'profile_sidebar_fill_color': 'DDEEF6', 'profile_text_color': '333333', 'profile_use_background_image': True, 'has_extended_profile': False, 'default_profile': True, 'default_profile_image': False, 'following': False, 'follow_request_sent': False, 'notifications': False, 'translator_type': 'none'}, id=1238215679162998784, id_str='1238215679162998784', name='COVID-19 Global Cases', screen_name='COVID19LiveNow', location='', description='Coronavirus COVID-19 Global Cases - Live Updates', url='https://t.co/n1ETrya5dt', entities={'url': {'urls': [{'url': 'https://t.co/n1ETrya5dt', 'expanded_url': 'http://covid19globalcases.com', 'display_url': 'covid19globalcases.com', 'indices': [0, 23]}]}, 'description': {'urls': []}}, protected=False, followers_count=59, friends_count=209, listed_count=2, created_at=datetime.datetime(2020, 3, 12, 21, 30, 8), favourites_count=0, utc_offset=None, time_zone=None, geo_enabled=False, verified=False, statuses_count=9406, lang=None, contributors_enabled=False, is_translator=False, is_translation_enabled=False, profile_background_color='F5F8FA', profile_background_image_url=None, profile_background_image_url_https=None, profile_background_tile=False, profile_image_url='http://pbs.twimg.com/profile_images/1238215817612812288/kDt1LH11_normal.jpg', profile_image_url_https='https://pbs.twimg.com/profile_images/1238215817612812288/kDt1LH11_normal.jpg', profile_banner_url='https://pbs.twimg.com/profile_banners/1238215679162998784/1584049157', profile_link_color='1DA1F2', profile_sidebar_border_color='C0DEED', profile_sidebar_fill_color='DDEEF6', profile_text_color='333333', profile_use_background_image=True, has_extended_profile=False, default_profile=True, default_profile_image=False, following=False, follow_request_sent=False, notifications=False, translator_type='none'), user=User(_api=<tweepy.api.API object at 0x0000027DB9D291C8>, _json={'id': 1238215679162998784, 'id_str': '1238215679162998784', 'name': 'COVID-19 Global Cases', 'screen_name': 'COVID19LiveNow', 'location': '', 'description': 'Coronavirus COVID-19 Global Cases - Live Updates', 'url': 'https://t.co/n1ETrya5dt', 'entities': {'url': {'urls': [{'url': 'https://t.co/n1ETrya5dt', 'expanded_url': 'http://covid19globalcases.com', 'display_url': 'covid19globalcases.com', 'indices': [0, 23]}]}, 'description': {'urls': []}}, 'protected': False, 'followers_count': 59, 'friends_count': 209, 'listed_count': 2, 'created_at': 'Thu Mar 12 21:30:08 +0000 2020', 'favourites_count': 0, 'utc_offset': None, 'time_zone': None, 'geo_enabled': False, 'verified': False, 'statuses_count': 9406, 'lang': None, 'contributors_enabled': False, 'is_translator': False, 'is_translation_enabled': False, 'profile_background_color': 'F5F8FA', 'profile_background_image_url': None, 'profile_background_image_url_https': None, 'profile_background_tile': False, 'profile_image_url': 'http://pbs.twimg.com/profile_images/1238215817612812288/kDt1LH11_normal.jpg', 'profile_image_url_https': 'https://pbs.twimg.com/profile_images/1238215817612812288/kDt1LH11_normal.jpg', 'profile_banner_url': 'https://pbs.twimg.com/profile_banners/1238215679162998784/1584049157', 'profile_link_color': '1DA1F2', 'profile_sidebar_border_color': 'C0DEED', 'profile_sidebar_fill_color': 'DDEEF6', 'profile_text_color': '333333', 'profile_use_background_image': True, 'has_extended_profile': False, 'default_profile': True, 'default_profile_image': False, 'following': False, 'follow_request_sent': False, 'notifications': False, 'translator_type': 'none'}, id=1238215679162998784, id_str='1238215679162998784', name='COVID-19 Global Cases', screen_name='COVID19LiveNow', location='', description='Coronavirus COVID-19 Global Cases - Live Updates', url='https://t.co/n1ETrya5dt', entities={'url': {'urls': [{'url': 'https://t.co/n1ETrya5dt', 'expanded_url': 'http://covid19globalcases.com', 'display_url': 'covid19globalcases.com', 'indices': [0, 23]}]}, 'description': {'urls': []}}, protected=False, followers_count=59, friends_count=209, listed_count=2, created_at=datetime.datetime(2020, 3, 12, 21, 30, 8), favourites_count=0, utc_offset=None, time_zone=None, geo_enabled=False, verified=False, statuses_count=9406, lang=None, contributors_enabled=False, is_translator=False, is_translation_enabled=False, profile_background_color='F5F8FA', profile_background_image_url=None, profile_background_image_url_https=None, profile_background_tile=False, profile_image_url='http://pbs.twimg.com/profile_images/1238215817612812288/kDt1LH11_normal.jpg', profile_image_url_https='https://pbs.twimg.com/profile_images/1238215817612812288/kDt1LH11_normal.jpg', profile_banner_url='https://pbs.twimg.com/profile_banners/1238215679162998784/1584049157', profile_link_color='1DA1F2', profile_sidebar_border_color='C0DEED', profile_sidebar_fill_color='DDEEF6', profile_text_color='333333', profile_use_background_image=True, has_extended_profile=False, default_profile=True, default_profile_image=False, following=False, follow_request_sent=False, notifications=False, translator_type='none'), geo=None, coordinates=None, place=None, contributors=None, is_quote_status=False, retweet_count=0, favorite_count=0, favorited=False, retweeted=False, possibly_sensitive=False, lang='en') \n",
      "\n",
      ".....................................\n",
      "\n",
      "Status(_api=<tweepy.api.API object at 0x0000027DB9D291C8>, _json={'created_at': 'Mon Nov 09 08:45:02 +0000 2020', 'id': 1325721044213092353, 'id_str': '1325721044213092353', 'full_text': '@ClaytonClent @COVID_Australia Can agree with that, but many countries o/seas now fear 3rd wave -India Updates: total Caseload Exceeds 85.5 Lakh; Delhi’s Third Wave Hits Peak (today) India has reported 46,661 fresh Covid-19 cases in the past 24 hours. (also today).', 'truncated': False, 'display_text_range': [31, 265], 'entities': {'hashtags': [], 'symbols': [], 'user_mentions': [{'screen_name': 'ClaytonClent', 'name': 'Clayton Clent', 'id': 2940190675, 'id_str': '2940190675', 'indices': [0, 13]}, {'screen_name': 'COVID_Australia', 'name': 'C🍩VID Australia', 'id': 1235345558723801096, 'id_str': '1235345558723801096', 'indices': [14, 30]}], 'urls': []}, 'metadata': {'iso_language_code': 'en', 'result_type': 'recent'}, 'source': '<a href=\"https://mobile.twitter.com\" rel=\"nofollow\">Twitter Web App</a>', 'in_reply_to_status_id': 1325719466588528641, 'in_reply_to_status_id_str': '1325719466588528641', 'in_reply_to_user_id': 2940190675, 'in_reply_to_user_id_str': '2940190675', 'in_reply_to_screen_name': 'ClaytonClent', 'user': {'id': 2928313861, 'id_str': '2928313861', 'name': 'HenryLawson', 'screen_name': 'HenryLawson55', 'location': '', 'description': '', 'url': None, 'entities': {'description': {'urls': []}}, 'protected': False, 'followers_count': 1110, 'friends_count': 314, 'listed_count': 35, 'created_at': 'Sat Dec 13 08:24:04 +0000 2014', 'favourites_count': 74525, 'utc_offset': None, 'time_zone': None, 'geo_enabled': False, 'verified': False, 'statuses_count': 69509, 'lang': None, 'contributors_enabled': False, 'is_translator': False, 'is_translation_enabled': False, 'profile_background_color': '352726', 'profile_background_image_url': 'http://abs.twimg.com/images/themes/theme5/bg.gif', 'profile_background_image_url_https': 'https://abs.twimg.com/images/themes/theme5/bg.gif', 'profile_background_tile': True, 'profile_image_url': 'http://pbs.twimg.com/profile_images/553838451871580161/pyCAgrl0_normal.jpeg', 'profile_image_url_https': 'https://pbs.twimg.com/profile_images/553838451871580161/pyCAgrl0_normal.jpeg', 'profile_banner_url': 'https://pbs.twimg.com/profile_banners/2928313861/1550838992', 'profile_link_color': '3B94D9', 'profile_sidebar_border_color': 'C0DEED', 'profile_sidebar_fill_color': 'DDEEF6', 'profile_text_color': '333333', 'profile_use_background_image': True, 'has_extended_profile': False, 'default_profile': False, 'default_profile_image': False, 'following': False, 'follow_request_sent': False, 'notifications': False, 'translator_type': 'none'}, 'geo': None, 'coordinates': None, 'place': None, 'contributors': None, 'is_quote_status': False, 'retweet_count': 0, 'favorite_count': 1, 'favorited': False, 'retweeted': False, 'lang': 'en'}, created_at=datetime.datetime(2020, 11, 9, 8, 45, 2), id=1325721044213092353, id_str='1325721044213092353', full_text='@ClaytonClent @COVID_Australia Can agree with that, but many countries o/seas now fear 3rd wave -India Updates: total Caseload Exceeds 85.5 Lakh; Delhi’s Third Wave Hits Peak (today) India has reported 46,661 fresh Covid-19 cases in the past 24 hours. (also today).', truncated=False, display_text_range=[31, 265], entities={'hashtags': [], 'symbols': [], 'user_mentions': [{'screen_name': 'ClaytonClent', 'name': 'Clayton Clent', 'id': 2940190675, 'id_str': '2940190675', 'indices': [0, 13]}, {'screen_name': 'COVID_Australia', 'name': 'C🍩VID Australia', 'id': 1235345558723801096, 'id_str': '1235345558723801096', 'indices': [14, 30]}], 'urls': []}, metadata={'iso_language_code': 'en', 'result_type': 'recent'}, source='Twitter Web App', source_url='https://mobile.twitter.com', in_reply_to_status_id=1325719466588528641, in_reply_to_status_id_str='1325719466588528641', in_reply_to_user_id=2940190675, in_reply_to_user_id_str='2940190675', in_reply_to_screen_name='ClaytonClent', author=User(_api=<tweepy.api.API object at 0x0000027DB9D291C8>, _json={'id': 2928313861, 'id_str': '2928313861', 'name': 'HenryLawson', 'screen_name': 'HenryLawson55', 'location': '', 'description': '', 'url': None, 'entities': {'description': {'urls': []}}, 'protected': False, 'followers_count': 1110, 'friends_count': 314, 'listed_count': 35, 'created_at': 'Sat Dec 13 08:24:04 +0000 2014', 'favourites_count': 74525, 'utc_offset': None, 'time_zone': None, 'geo_enabled': False, 'verified': False, 'statuses_count': 69509, 'lang': None, 'contributors_enabled': False, 'is_translator': False, 'is_translation_enabled': False, 'profile_background_color': '352726', 'profile_background_image_url': 'http://abs.twimg.com/images/themes/theme5/bg.gif', 'profile_background_image_url_https': 'https://abs.twimg.com/images/themes/theme5/bg.gif', 'profile_background_tile': True, 'profile_image_url': 'http://pbs.twimg.com/profile_images/553838451871580161/pyCAgrl0_normal.jpeg', 'profile_image_url_https': 'https://pbs.twimg.com/profile_images/553838451871580161/pyCAgrl0_normal.jpeg', 'profile_banner_url': 'https://pbs.twimg.com/profile_banners/2928313861/1550838992', 'profile_link_color': '3B94D9', 'profile_sidebar_border_color': 'C0DEED', 'profile_sidebar_fill_color': 'DDEEF6', 'profile_text_color': '333333', 'profile_use_background_image': True, 'has_extended_profile': False, 'default_profile': False, 'default_profile_image': False, 'following': False, 'follow_request_sent': False, 'notifications': False, 'translator_type': 'none'}, id=2928313861, id_str='2928313861', name='HenryLawson', screen_name='HenryLawson55', location='', description='', url=None, entities={'description': {'urls': []}}, protected=False, followers_count=1110, friends_count=314, listed_count=35, created_at=datetime.datetime(2014, 12, 13, 8, 24, 4), favourites_count=74525, utc_offset=None, time_zone=None, geo_enabled=False, verified=False, statuses_count=69509, lang=None, contributors_enabled=False, is_translator=False, is_translation_enabled=False, profile_background_color='352726', profile_background_image_url='http://abs.twimg.com/images/themes/theme5/bg.gif', profile_background_image_url_https='https://abs.twimg.com/images/themes/theme5/bg.gif', profile_background_tile=True, profile_image_url='http://pbs.twimg.com/profile_images/553838451871580161/pyCAgrl0_normal.jpeg', profile_image_url_https='https://pbs.twimg.com/profile_images/553838451871580161/pyCAgrl0_normal.jpeg', profile_banner_url='https://pbs.twimg.com/profile_banners/2928313861/1550838992', profile_link_color='3B94D9', profile_sidebar_border_color='C0DEED', profile_sidebar_fill_color='DDEEF6', profile_text_color='333333', profile_use_background_image=True, has_extended_profile=False, default_profile=False, default_profile_image=False, following=False, follow_request_sent=False, notifications=False, translator_type='none'), user=User(_api=<tweepy.api.API object at 0x0000027DB9D291C8>, _json={'id': 2928313861, 'id_str': '2928313861', 'name': 'HenryLawson', 'screen_name': 'HenryLawson55', 'location': '', 'description': '', 'url': None, 'entities': {'description': {'urls': []}}, 'protected': False, 'followers_count': 1110, 'friends_count': 314, 'listed_count': 35, 'created_at': 'Sat Dec 13 08:24:04 +0000 2014', 'favourites_count': 74525, 'utc_offset': None, 'time_zone': None, 'geo_enabled': False, 'verified': False, 'statuses_count': 69509, 'lang': None, 'contributors_enabled': False, 'is_translator': False, 'is_translation_enabled': False, 'profile_background_color': '352726', 'profile_background_image_url': 'http://abs.twimg.com/images/themes/theme5/bg.gif', 'profile_background_image_url_https': 'https://abs.twimg.com/images/themes/theme5/bg.gif', 'profile_background_tile': True, 'profile_image_url': 'http://pbs.twimg.com/profile_images/553838451871580161/pyCAgrl0_normal.jpeg', 'profile_image_url_https': 'https://pbs.twimg.com/profile_images/553838451871580161/pyCAgrl0_normal.jpeg', 'profile_banner_url': 'https://pbs.twimg.com/profile_banners/2928313861/1550838992', 'profile_link_color': '3B94D9', 'profile_sidebar_border_color': 'C0DEED', 'profile_sidebar_fill_color': 'DDEEF6', 'profile_text_color': '333333', 'profile_use_background_image': True, 'has_extended_profile': False, 'default_profile': False, 'default_profile_image': False, 'following': False, 'follow_request_sent': False, 'notifications': False, 'translator_type': 'none'}, id=2928313861, id_str='2928313861', name='HenryLawson', screen_name='HenryLawson55', location='', description='', url=None, entities={'description': {'urls': []}}, protected=False, followers_count=1110, friends_count=314, listed_count=35, created_at=datetime.datetime(2014, 12, 13, 8, 24, 4), favourites_count=74525, utc_offset=None, time_zone=None, geo_enabled=False, verified=False, statuses_count=69509, lang=None, contributors_enabled=False, is_translator=False, is_translation_enabled=False, profile_background_color='352726', profile_background_image_url='http://abs.twimg.com/images/themes/theme5/bg.gif', profile_background_image_url_https='https://abs.twimg.com/images/themes/theme5/bg.gif', profile_background_tile=True, profile_image_url='http://pbs.twimg.com/profile_images/553838451871580161/pyCAgrl0_normal.jpeg', profile_image_url_https='https://pbs.twimg.com/profile_images/553838451871580161/pyCAgrl0_normal.jpeg', profile_banner_url='https://pbs.twimg.com/profile_banners/2928313861/1550838992', profile_link_color='3B94D9', profile_sidebar_border_color='C0DEED', profile_sidebar_fill_color='DDEEF6', profile_text_color='333333', profile_use_background_image=True, has_extended_profile=False, default_profile=False, default_profile_image=False, following=False, follow_request_sent=False, notifications=False, translator_type='none'), geo=None, coordinates=None, place=None, contributors=None, is_quote_status=False, retweet_count=0, favorite_count=1, favorited=False, retweeted=False, lang='en') \n",
      "\n",
      ".....................................\n",
      "\n"
     ]
    }
   ],
   "source": [
    "# Searching tweets using search function\n",
    "Tweets = api.search( query , count=10 , lang='en' , exclude='retweets' , tweet_mode='extended' )\n",
    "for tweet in Tweets:\n",
    "    print(tweet,\"\\n\")\n",
    "    print(\".....................................\\n\")"
   ]
  },
  {
   "cell_type": "code",
   "execution_count": 8,
   "metadata": {},
   "outputs": [
    {
     "name": "stdout",
     "output_type": "stream",
     "text": [
      "Empty DataFrame\n",
      "Columns: [Tweets, User, User_statuses_count, user_followers, User_location, User_verified, fav_count, rt_count, tweet_date]\n",
      "Index: []\n"
     ]
    }
   ],
   "source": [
    "# Creating a Dataframe for storing the Tweets.\n",
    "df = pd.DataFrame(columns = ['Tweets' , 'User' , 'User_statuses_count' , \n",
    "                            'user_followers' , 'User_location' , 'User_verified' ,\n",
    "                            'fav_count' , 'rt_count' , 'tweet_date'] )\n",
    "print(df)"
   ]
  },
  {
   "cell_type": "code",
   "execution_count": 9,
   "metadata": {},
   "outputs": [],
   "source": [
    "# Searching Tweets and saving them in the DataFrame.\n",
    "def stream(data, file_name):\n",
    "    i = 0\n",
    "    for tweet in tweepy.Cursor(api.search, q=data, count=100, exclude = 'retweets', lang='en').items():\n",
    "        print(i, end='\\r')\n",
    "        df.loc[i, 'Tweets'] = tweet.text\n",
    "        df.loc[i, 'User'] = tweet.user.name\n",
    "        df.loc[i, 'User_statuses_count'] = tweet.user.statuses_count\n",
    "        df.loc[i, 'user_followers'] = tweet.user.followers_count\n",
    "        df.loc[i, 'User_location'] = tweet.user.location\n",
    "        df.loc[i, 'User_verified'] = tweet.user.verified\n",
    "        df.loc[i, 'fav_count'] = tweet.favorite_count\n",
    "        df.loc[i, 'rt_count'] = tweet.retweet_count\n",
    "        df.loc[i, 'tweet_date'] = tweet.created_at\n",
    "        df.to_excel('{}.xlsx'.format(file_name))\n",
    "        i = i+1\n",
    "        if i == 1000:\n",
    "            break\n",
    "        else:\n",
    "            pass"
   ]
  },
  {
   "cell_type": "code",
   "execution_count": 10,
   "metadata": {},
   "outputs": [
    {
     "name": "stdout",
     "output_type": "stream",
     "text": [
      "999\r"
     ]
    }
   ],
   "source": [
    "stream(query , file_name='my_tweets')"
   ]
  },
  {
   "cell_type": "code",
   "execution_count": 11,
   "metadata": {},
   "outputs": [
    {
     "data": {
      "text/html": [
       "<div>\n",
       "<style scoped>\n",
       "    .dataframe tbody tr th:only-of-type {\n",
       "        vertical-align: middle;\n",
       "    }\n",
       "\n",
       "    .dataframe tbody tr th {\n",
       "        vertical-align: top;\n",
       "    }\n",
       "\n",
       "    .dataframe thead th {\n",
       "        text-align: right;\n",
       "    }\n",
       "</style>\n",
       "<table border=\"1\" class=\"dataframe\">\n",
       "  <thead>\n",
       "    <tr style=\"text-align: right;\">\n",
       "      <th></th>\n",
       "      <th>Tweets</th>\n",
       "      <th>User</th>\n",
       "      <th>User_statuses_count</th>\n",
       "      <th>user_followers</th>\n",
       "      <th>User_location</th>\n",
       "      <th>User_verified</th>\n",
       "      <th>fav_count</th>\n",
       "      <th>rt_count</th>\n",
       "      <th>tweet_date</th>\n",
       "    </tr>\n",
       "  </thead>\n",
       "  <tbody>\n",
       "    <tr>\n",
       "      <th>0</th>\n",
       "      <td>Delhi overtakes Maharashtra, Kerala as highest...</td>\n",
       "      <td>The Times Of India</td>\n",
       "      <td>611371</td>\n",
       "      <td>13215158</td>\n",
       "      <td>New Delhi</td>\n",
       "      <td>True</td>\n",
       "      <td>0</td>\n",
       "      <td>0</td>\n",
       "      <td>2020-11-09 09:23:00</td>\n",
       "    </tr>\n",
       "    <tr>\n",
       "      <th>1</th>\n",
       "      <td>LIVE: 2 BSF personnel among six new Covid-19 c...</td>\n",
       "      <td>Chanchinthar</td>\n",
       "      <td>12462</td>\n",
       "      <td>5050</td>\n",
       "      <td>Serchhip, India</td>\n",
       "      <td>False</td>\n",
       "      <td>0</td>\n",
       "      <td>0</td>\n",
       "      <td>2020-11-09 09:21:34</td>\n",
       "    </tr>\n",
       "    <tr>\n",
       "      <th>2</th>\n",
       "      <td>#Delhi overtakes #Maharashtra, #Kerala as high...</td>\n",
       "      <td>Business Insider India🇮🇳</td>\n",
       "      <td>50524</td>\n",
       "      <td>72529</td>\n",
       "      <td>New Delhi, India</td>\n",
       "      <td>True</td>\n",
       "      <td>6</td>\n",
       "      <td>1</td>\n",
       "      <td>2020-11-09 09:15:00</td>\n",
       "    </tr>\n",
       "    <tr>\n",
       "      <th>3</th>\n",
       "      <td>Is it compulsory for a college to conduct exam...</td>\n",
       "      <td>Manesh</td>\n",
       "      <td>165</td>\n",
       "      <td>36</td>\n",
       "      <td>Visakhapatnam</td>\n",
       "      <td>False</td>\n",
       "      <td>0</td>\n",
       "      <td>0</td>\n",
       "      <td>2020-11-09 09:07:10</td>\n",
       "    </tr>\n",
       "    <tr>\n",
       "      <th>4</th>\n",
       "      <td>Get latest updates on COVID-19 India https://t...</td>\n",
       "      <td>ElegantJ BI</td>\n",
       "      <td>2131</td>\n",
       "      <td>1259</td>\n",
       "      <td>Ahmedabad, Gujarat, India</td>\n",
       "      <td>False</td>\n",
       "      <td>0</td>\n",
       "      <td>0</td>\n",
       "      <td>2020-11-09 09:01:10</td>\n",
       "    </tr>\n",
       "  </tbody>\n",
       "</table>\n",
       "</div>"
      ],
      "text/plain": [
       "                                              Tweets  \\\n",
       "0  Delhi overtakes Maharashtra, Kerala as highest...   \n",
       "1  LIVE: 2 BSF personnel among six new Covid-19 c...   \n",
       "2  #Delhi overtakes #Maharashtra, #Kerala as high...   \n",
       "3  Is it compulsory for a college to conduct exam...   \n",
       "4  Get latest updates on COVID-19 India https://t...   \n",
       "\n",
       "                       User User_statuses_count user_followers  \\\n",
       "0        The Times Of India              611371       13215158   \n",
       "1              Chanchinthar               12462           5050   \n",
       "2  Business Insider India🇮🇳               50524          72529   \n",
       "3                    Manesh                 165             36   \n",
       "4               ElegantJ BI                2131           1259   \n",
       "\n",
       "               User_location User_verified fav_count rt_count  \\\n",
       "0                  New Delhi          True         0        0   \n",
       "1            Serchhip, India         False         0        0   \n",
       "2           New Delhi, India          True         6        1   \n",
       "3              Visakhapatnam         False         0        0   \n",
       "4  Ahmedabad, Gujarat, India         False         0        0   \n",
       "\n",
       "            tweet_date  \n",
       "0  2020-11-09 09:23:00  \n",
       "1  2020-11-09 09:21:34  \n",
       "2  2020-11-09 09:15:00  \n",
       "3  2020-11-09 09:07:10  \n",
       "4  2020-11-09 09:01:10  "
      ]
     },
     "execution_count": 11,
     "metadata": {},
     "output_type": "execute_result"
    }
   ],
   "source": [
    "df.head()"
   ]
  },
  {
   "cell_type": "code",
   "execution_count": 12,
   "metadata": {},
   "outputs": [],
   "source": [
    "# Cleaning the Tweets.\n",
    "import re\n",
    "def clean_tweet(tweet):\n",
    "    return ' '.join(re.sub('(@[A-Za-z0-9]+)|(#[A-Za-z0-9]+)|([^0-9A-Za-z \\t])|(\\w+:\\/\\/\\S+)', ' ', tweet).split())"
   ]
  },
  {
   "cell_type": "code",
   "execution_count": 13,
   "metadata": {},
   "outputs": [],
   "source": [
    "# Analyzing the Tweets.\n",
    "def analyze_sentiment(tweet):\n",
    "    analysis = TextBlob(tweet)\n",
    "    if analysis.sentiment.polarity > 0:\n",
    "        return 'Positive'\n",
    "    elif analysis.sentiment.polarity == 0:\n",
    "        return 'Neutral'\n",
    "    else:\n",
    "        return 'Negative'"
   ]
  },
  {
   "cell_type": "code",
   "execution_count": 14,
   "metadata": {},
   "outputs": [],
   "source": [
    "# Adding the Cleaned Tweets to the Dataframe.\n",
    "df['clean_tweet'] = df['Tweets'].apply(lambda x : clean_tweet(x))"
   ]
  },
  {
   "cell_type": "code",
   "execution_count": 15,
   "metadata": {},
   "outputs": [
    {
     "data": {
      "text/html": [
       "<div>\n",
       "<style scoped>\n",
       "    .dataframe tbody tr th:only-of-type {\n",
       "        vertical-align: middle;\n",
       "    }\n",
       "\n",
       "    .dataframe tbody tr th {\n",
       "        vertical-align: top;\n",
       "    }\n",
       "\n",
       "    .dataframe thead th {\n",
       "        text-align: right;\n",
       "    }\n",
       "</style>\n",
       "<table border=\"1\" class=\"dataframe\">\n",
       "  <thead>\n",
       "    <tr style=\"text-align: right;\">\n",
       "      <th></th>\n",
       "      <th>Tweets</th>\n",
       "      <th>User</th>\n",
       "      <th>User_statuses_count</th>\n",
       "      <th>user_followers</th>\n",
       "      <th>User_location</th>\n",
       "      <th>User_verified</th>\n",
       "      <th>fav_count</th>\n",
       "      <th>rt_count</th>\n",
       "      <th>tweet_date</th>\n",
       "      <th>clean_tweet</th>\n",
       "    </tr>\n",
       "  </thead>\n",
       "  <tbody>\n",
       "    <tr>\n",
       "      <th>0</th>\n",
       "      <td>Delhi overtakes Maharashtra, Kerala as highest...</td>\n",
       "      <td>The Times Of India</td>\n",
       "      <td>611371</td>\n",
       "      <td>13215158</td>\n",
       "      <td>New Delhi</td>\n",
       "      <td>True</td>\n",
       "      <td>0</td>\n",
       "      <td>0</td>\n",
       "      <td>2020-11-09 09:23:00</td>\n",
       "      <td>Delhi overtakes Maharashtra Kerala as highest ...</td>\n",
       "    </tr>\n",
       "    <tr>\n",
       "      <th>1</th>\n",
       "      <td>LIVE: 2 BSF personnel among six new Covid-19 c...</td>\n",
       "      <td>Chanchinthar</td>\n",
       "      <td>12462</td>\n",
       "      <td>5050</td>\n",
       "      <td>Serchhip, India</td>\n",
       "      <td>False</td>\n",
       "      <td>0</td>\n",
       "      <td>0</td>\n",
       "      <td>2020-11-09 09:21:34</td>\n",
       "      <td>LIVE 2 BSF personnel among six new Covid 19 ca...</td>\n",
       "    </tr>\n",
       "    <tr>\n",
       "      <th>2</th>\n",
       "      <td>#Delhi overtakes #Maharashtra, #Kerala as high...</td>\n",
       "      <td>Business Insider India🇮🇳</td>\n",
       "      <td>50524</td>\n",
       "      <td>72529</td>\n",
       "      <td>New Delhi, India</td>\n",
       "      <td>True</td>\n",
       "      <td>6</td>\n",
       "      <td>1</td>\n",
       "      <td>2020-11-09 09:15:00</td>\n",
       "      <td>overtakes as highest contributor to new cases ...</td>\n",
       "    </tr>\n",
       "    <tr>\n",
       "      <th>3</th>\n",
       "      <td>Is it compulsory for a college to conduct exam...</td>\n",
       "      <td>Manesh</td>\n",
       "      <td>165</td>\n",
       "      <td>36</td>\n",
       "      <td>Visakhapatnam</td>\n",
       "      <td>False</td>\n",
       "      <td>0</td>\n",
       "      <td>0</td>\n",
       "      <td>2020-11-09 09:07:10</td>\n",
       "      <td>Is it compulsory for a college to conduct exam...</td>\n",
       "    </tr>\n",
       "    <tr>\n",
       "      <th>4</th>\n",
       "      <td>Get latest updates on COVID-19 India https://t...</td>\n",
       "      <td>ElegantJ BI</td>\n",
       "      <td>2131</td>\n",
       "      <td>1259</td>\n",
       "      <td>Ahmedabad, Gujarat, India</td>\n",
       "      <td>False</td>\n",
       "      <td>0</td>\n",
       "      <td>0</td>\n",
       "      <td>2020-11-09 09:01:10</td>\n",
       "      <td>Get latest updates on COVID 19 India Total cas...</td>\n",
       "    </tr>\n",
       "  </tbody>\n",
       "</table>\n",
       "</div>"
      ],
      "text/plain": [
       "                                              Tweets  \\\n",
       "0  Delhi overtakes Maharashtra, Kerala as highest...   \n",
       "1  LIVE: 2 BSF personnel among six new Covid-19 c...   \n",
       "2  #Delhi overtakes #Maharashtra, #Kerala as high...   \n",
       "3  Is it compulsory for a college to conduct exam...   \n",
       "4  Get latest updates on COVID-19 India https://t...   \n",
       "\n",
       "                       User User_statuses_count user_followers  \\\n",
       "0        The Times Of India              611371       13215158   \n",
       "1              Chanchinthar               12462           5050   \n",
       "2  Business Insider India🇮🇳               50524          72529   \n",
       "3                    Manesh                 165             36   \n",
       "4               ElegantJ BI                2131           1259   \n",
       "\n",
       "               User_location User_verified fav_count rt_count  \\\n",
       "0                  New Delhi          True         0        0   \n",
       "1            Serchhip, India         False         0        0   \n",
       "2           New Delhi, India          True         6        1   \n",
       "3              Visakhapatnam         False         0        0   \n",
       "4  Ahmedabad, Gujarat, India         False         0        0   \n",
       "\n",
       "            tweet_date                                        clean_tweet  \n",
       "0  2020-11-09 09:23:00  Delhi overtakes Maharashtra Kerala as highest ...  \n",
       "1  2020-11-09 09:21:34  LIVE 2 BSF personnel among six new Covid 19 ca...  \n",
       "2  2020-11-09 09:15:00  overtakes as highest contributor to new cases ...  \n",
       "3  2020-11-09 09:07:10  Is it compulsory for a college to conduct exam...  \n",
       "4  2020-11-09 09:01:10  Get latest updates on COVID 19 India Total cas...  "
      ]
     },
     "execution_count": 15,
     "metadata": {},
     "output_type": "execute_result"
    }
   ],
   "source": [
    "df.head()"
   ]
  },
  {
   "cell_type": "code",
   "execution_count": 16,
   "metadata": {},
   "outputs": [
    {
     "data": {
      "text/html": [
       "<div>\n",
       "<style scoped>\n",
       "    .dataframe tbody tr th:only-of-type {\n",
       "        vertical-align: middle;\n",
       "    }\n",
       "\n",
       "    .dataframe tbody tr th {\n",
       "        vertical-align: top;\n",
       "    }\n",
       "\n",
       "    .dataframe thead th {\n",
       "        text-align: right;\n",
       "    }\n",
       "</style>\n",
       "<table border=\"1\" class=\"dataframe\">\n",
       "  <thead>\n",
       "    <tr style=\"text-align: right;\">\n",
       "      <th></th>\n",
       "      <th>Tweets</th>\n",
       "      <th>User</th>\n",
       "      <th>User_statuses_count</th>\n",
       "      <th>user_followers</th>\n",
       "      <th>User_location</th>\n",
       "      <th>User_verified</th>\n",
       "      <th>fav_count</th>\n",
       "      <th>rt_count</th>\n",
       "      <th>tweet_date</th>\n",
       "      <th>clean_tweet</th>\n",
       "      <th>Sentiment</th>\n",
       "    </tr>\n",
       "  </thead>\n",
       "  <tbody>\n",
       "    <tr>\n",
       "      <th>0</th>\n",
       "      <td>Delhi overtakes Maharashtra, Kerala as highest...</td>\n",
       "      <td>The Times Of India</td>\n",
       "      <td>611371</td>\n",
       "      <td>13215158</td>\n",
       "      <td>New Delhi</td>\n",
       "      <td>True</td>\n",
       "      <td>0</td>\n",
       "      <td>0</td>\n",
       "      <td>2020-11-09 09:23:00</td>\n",
       "      <td>Delhi overtakes Maharashtra Kerala as highest ...</td>\n",
       "      <td>Positive</td>\n",
       "    </tr>\n",
       "    <tr>\n",
       "      <th>1</th>\n",
       "      <td>LIVE: 2 BSF personnel among six new Covid-19 c...</td>\n",
       "      <td>Chanchinthar</td>\n",
       "      <td>12462</td>\n",
       "      <td>5050</td>\n",
       "      <td>Serchhip, India</td>\n",
       "      <td>False</td>\n",
       "      <td>0</td>\n",
       "      <td>0</td>\n",
       "      <td>2020-11-09 09:21:34</td>\n",
       "      <td>LIVE 2 BSF personnel among six new Covid 19 ca...</td>\n",
       "      <td>Positive</td>\n",
       "    </tr>\n",
       "    <tr>\n",
       "      <th>2</th>\n",
       "      <td>#Delhi overtakes #Maharashtra, #Kerala as high...</td>\n",
       "      <td>Business Insider India🇮🇳</td>\n",
       "      <td>50524</td>\n",
       "      <td>72529</td>\n",
       "      <td>New Delhi, India</td>\n",
       "      <td>True</td>\n",
       "      <td>6</td>\n",
       "      <td>1</td>\n",
       "      <td>2020-11-09 09:15:00</td>\n",
       "      <td>overtakes as highest contributor to new cases ...</td>\n",
       "      <td>Positive</td>\n",
       "    </tr>\n",
       "    <tr>\n",
       "      <th>3</th>\n",
       "      <td>Is it compulsory for a college to conduct exam...</td>\n",
       "      <td>Manesh</td>\n",
       "      <td>165</td>\n",
       "      <td>36</td>\n",
       "      <td>Visakhapatnam</td>\n",
       "      <td>False</td>\n",
       "      <td>0</td>\n",
       "      <td>0</td>\n",
       "      <td>2020-11-09 09:07:10</td>\n",
       "      <td>Is it compulsory for a college to conduct exam...</td>\n",
       "      <td>Negative</td>\n",
       "    </tr>\n",
       "    <tr>\n",
       "      <th>4</th>\n",
       "      <td>Get latest updates on COVID-19 India https://t...</td>\n",
       "      <td>ElegantJ BI</td>\n",
       "      <td>2131</td>\n",
       "      <td>1259</td>\n",
       "      <td>Ahmedabad, Gujarat, India</td>\n",
       "      <td>False</td>\n",
       "      <td>0</td>\n",
       "      <td>0</td>\n",
       "      <td>2020-11-09 09:01:10</td>\n",
       "      <td>Get latest updates on COVID 19 India Total cas...</td>\n",
       "      <td>Positive</td>\n",
       "    </tr>\n",
       "  </tbody>\n",
       "</table>\n",
       "</div>"
      ],
      "text/plain": [
       "                                              Tweets  \\\n",
       "0  Delhi overtakes Maharashtra, Kerala as highest...   \n",
       "1  LIVE: 2 BSF personnel among six new Covid-19 c...   \n",
       "2  #Delhi overtakes #Maharashtra, #Kerala as high...   \n",
       "3  Is it compulsory for a college to conduct exam...   \n",
       "4  Get latest updates on COVID-19 India https://t...   \n",
       "\n",
       "                       User User_statuses_count user_followers  \\\n",
       "0        The Times Of India              611371       13215158   \n",
       "1              Chanchinthar               12462           5050   \n",
       "2  Business Insider India🇮🇳               50524          72529   \n",
       "3                    Manesh                 165             36   \n",
       "4               ElegantJ BI                2131           1259   \n",
       "\n",
       "               User_location User_verified fav_count rt_count  \\\n",
       "0                  New Delhi          True         0        0   \n",
       "1            Serchhip, India         False         0        0   \n",
       "2           New Delhi, India          True         6        1   \n",
       "3              Visakhapatnam         False         0        0   \n",
       "4  Ahmedabad, Gujarat, India         False         0        0   \n",
       "\n",
       "            tweet_date                                        clean_tweet  \\\n",
       "0  2020-11-09 09:23:00  Delhi overtakes Maharashtra Kerala as highest ...   \n",
       "1  2020-11-09 09:21:34  LIVE 2 BSF personnel among six new Covid 19 ca...   \n",
       "2  2020-11-09 09:15:00  overtakes as highest contributor to new cases ...   \n",
       "3  2020-11-09 09:07:10  Is it compulsory for a college to conduct exam...   \n",
       "4  2020-11-09 09:01:10  Get latest updates on COVID 19 India Total cas...   \n",
       "\n",
       "  Sentiment  \n",
       "0  Positive  \n",
       "1  Positive  \n",
       "2  Positive  \n",
       "3  Negative  \n",
       "4  Positive  "
      ]
     },
     "execution_count": 16,
     "metadata": {},
     "output_type": "execute_result"
    }
   ],
   "source": [
    "# Checking the Sentiment of the Tweet.\n",
    "df['Sentiment'] = df['clean_tweet'].apply(lambda x : analyze_sentiment(x) )\n",
    "df.head()"
   ]
  },
  {
   "cell_type": "code",
   "execution_count": 17,
   "metadata": {},
   "outputs": [],
   "source": [
    "# Checking the Particular Tweet."
   ]
  },
  {
   "cell_type": "code",
   "execution_count": 18,
   "metadata": {
    "scrolled": true
   },
   "outputs": [
    {
     "name": "stdout",
     "output_type": "stream",
     "text": [
      "Original tweet:\n",
      " Delhi overtakes Maharashtra, Kerala as highest contributor to new Covid-19 cases https://t.co/4dufSV4bLg\n",
      "\n",
      "Clean tweet:\n",
      " Delhi overtakes Maharashtra Kerala as highest contributor to new Covid 19 cases\n",
      "\n",
      "Sentiment of the tweet:\n",
      " Positive\n"
     ]
    }
   ],
   "source": [
    "n = 0\n",
    "print(\"Original tweet:\\n\",df['Tweets'][n])\n",
    "print()\n",
    "print(\"Clean tweet:\\n\",df['clean_tweet'][n])\n",
    "print()\n",
    "print(\"Sentiment of the tweet:\\n\",df['Sentiment'][n])"
   ]
  },
  {
   "cell_type": "code",
   "execution_count": 20,
   "metadata": {},
   "outputs": [
    {
     "name": "stdout",
     "output_type": "stream",
     "text": [
      "Original tweet:\n",
      " @Knighteagle4 @shubh_ch @goforkj @runcaralisarun Nd for ur info there were already many cases of covid in India by end of January 2020...\n",
      "\n",
      "Clean tweet:\n",
      " ch Nd for ur info there were already many cases of covid in India by end of January 2020\n",
      "\n",
      "Sentiment of the tweet:\n",
      " Positive\n"
     ]
    }
   ],
   "source": [
    "n = 888\n",
    "print(\"Original tweet:\\n\",df['Tweets'][n])\n",
    "print()\n",
    "print(\"Clean tweet:\\n\",df['clean_tweet'][n])\n",
    "print()\n",
    "print(\"Sentiment of the tweet:\\n\",df['Sentiment'][n])"
   ]
  },
  {
   "cell_type": "code",
   "execution_count": 21,
   "metadata": {},
   "outputs": [
    {
     "name": "stdout",
     "output_type": "stream",
     "text": [
      "Tweets with Positive Sentiment: 487\n",
      "Tweets with Neutral Sentiment: 301\n",
      "Tweets with Negative Sentiment: 212\n"
     ]
    }
   ],
   "source": [
    "print(\"Tweets with Positive Sentiment:\",df[df.Sentiment == 'Positive'].shape[0])\n",
    "print(\"Tweets with Neutral Sentiment:\",df[df.Sentiment == 'Neutral'].shape[0])\n",
    "print(\"Tweets with Negative Sentiment:\",df[df.Sentiment == 'Negative'].shape[0])"
   ]
  },
  {
   "cell_type": "code",
   "execution_count": 22,
   "metadata": {},
   "outputs": [],
   "source": [
    "#create a function that shows original and cleaned tweets\n",
    "def generate_tweets(n):\n",
    "    print(\"===============Original Tweet=============\\n\")\n",
    "    print(df['Tweets'][n],\"\\n\")\n",
    "    print(\"===============Cleaned Tweet==============\\n\")\n",
    "    print(df['clean_tweet'][n],\"\\n\")"
   ]
  },
  {
   "cell_type": "code",
   "execution_count": 23,
   "metadata": {},
   "outputs": [
    {
     "name": "stdout",
     "output_type": "stream",
     "text": [
      "===============Original Tweet=============\n",
      "\n",
      "India's Covid-19 cases breach 85-lakh mark, over 45,000 new cases in a day https://t.co/6TMRuzApCl \n",
      "\n",
      "===============Cleaned Tweet==============\n",
      "\n",
      "India s Covid 19 cases breach 85 lakh mark over 45 000 new cases in a day \n",
      "\n"
     ]
    }
   ],
   "source": [
    "generate_tweets(250)"
   ]
  },
  {
   "cell_type": "code",
   "execution_count": 24,
   "metadata": {},
   "outputs": [
    {
     "data": {
      "text/plain": [
       "Index(['Tweets', 'User', 'User_statuses_count', 'user_followers',\n",
       "       'User_location', 'User_verified', 'fav_count', 'rt_count', 'tweet_date',\n",
       "       'clean_tweet', 'Sentiment'],\n",
       "      dtype='object')"
      ]
     },
     "execution_count": 24,
     "metadata": {},
     "output_type": "execute_result"
    }
   ],
   "source": [
    "df.columns"
   ]
  },
  {
   "cell_type": "code",
   "execution_count": null,
   "metadata": {},
   "outputs": [],
   "source": []
  }
 ],
 "metadata": {
  "kernelspec": {
   "display_name": "Python 3",
   "language": "python",
   "name": "python3"
  },
  "language_info": {
   "codemirror_mode": {
    "name": "ipython",
    "version": 3
   },
   "file_extension": ".py",
   "mimetype": "text/x-python",
   "name": "python",
   "nbconvert_exporter": "python",
   "pygments_lexer": "ipython3",
   "version": "3.7.6"
  },
  "toc": {
   "base_numbering": 1,
   "nav_menu": {},
   "number_sections": true,
   "sideBar": true,
   "skip_h1_title": false,
   "title_cell": "Table of Contents",
   "title_sidebar": "Contents",
   "toc_cell": false,
   "toc_position": {},
   "toc_section_display": true,
   "toc_window_display": false
  }
 },
 "nbformat": 4,
 "nbformat_minor": 4
}
